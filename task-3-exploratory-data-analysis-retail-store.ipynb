{
 "cells": [
  {
   "cell_type": "code",
   "execution_count": 1,
   "id": "e5ea47ad",
   "metadata": {
    "_cell_guid": "b1076dfc-b9ad-4769-8c92-a6c4dae69d19",
    "_uuid": "8f2839f25d086af736a60e9eeb907d3b93b6e0e5",
    "execution": {
     "iopub.execute_input": "2023-02-06T07:59:29.639935Z",
     "iopub.status.busy": "2023-02-06T07:59:29.639483Z",
     "iopub.status.idle": "2023-02-06T07:59:29.655251Z",
     "shell.execute_reply": "2023-02-06T07:59:29.654349Z"
    },
    "papermill": {
     "duration": 0.032792,
     "end_time": "2023-02-06T07:59:29.657827",
     "exception": false,
     "start_time": "2023-02-06T07:59:29.625035",
     "status": "completed"
    },
    "tags": []
   },
   "outputs": [
    {
     "name": "stdout",
     "output_type": "stream",
     "text": [
      "/kaggle/input/new-dataset-of-retailstore/NEWRetaildatasetofGRIPFEB023.csv\n"
     ]
    }
   ],
   "source": [
    "# This Python 3 environment comes with many helpful analytics libraries installed\n",
    "# It is defined by the kaggle/python Docker image: https://github.com/kaggle/docker-python\n",
    "# For example, here's several helpful packages to load\n",
    "\n",
    "import numpy as np # linear algebra\n",
    "import pandas as pd # data processing, CSV file I/O (e.g. pd.read_csv)\n",
    "\n",
    "# Input data files are available in the read-only \"../input/\" directory\n",
    "# For example, running this (by clicking run or pressing Shift+Enter) will list all files under the input directory\n",
    "\n",
    "import os\n",
    "for dirname, _, filenames in os.walk('/kaggle/input'):\n",
    "    for filename in filenames:\n",
    "        print(os.path.join(dirname, filename))\n",
    "\n",
    "# You can write up to 20GB to the current directory (/kaggle/working/) that gets preserved as output when you create a version using \"Save & Run All\" \n",
    "# You can also write temporary files to /kaggle/temp/, but they won't be saved outside of the current session"
   ]
  },
  {
   "cell_type": "markdown",
   "id": "a5aaed5c",
   "metadata": {
    "papermill": {
     "duration": 0.011479,
     "end_time": "2023-02-06T07:59:29.681382",
     "exception": false,
     "start_time": "2023-02-06T07:59:29.669903",
     "status": "completed"
    },
    "tags": []
   },
   "source": [
    "# **#  Task - 3\n",
    "# **# Exploratory Data Analysis - Retail Store****"
   ]
  },
  {
   "cell_type": "markdown",
   "id": "ba546ecb",
   "metadata": {
    "papermill": {
     "duration": 0.011341,
     "end_time": "2023-02-06T07:59:29.705687",
     "exception": false,
     "start_time": "2023-02-06T07:59:29.694346",
     "status": "completed"
    },
    "tags": []
   },
   "source": []
  },
  {
   "cell_type": "markdown",
   "id": "13e3b143",
   "metadata": {
    "papermill": {
     "duration": 0.011226,
     "end_time": "2023-02-06T07:59:29.728416",
     "exception": false,
     "start_time": "2023-02-06T07:59:29.717190",
     "status": "completed"
    },
    "tags": []
   },
   "source": [
    "# here we are finding some questions answer as follows:\n",
    "\n",
    "# Que1 - Trying to find some weak areas where we can make profits\n",
    "# Que2 - we are finding business problem by exploring this data\n"
   ]
  },
  {
   "cell_type": "markdown",
   "id": "a1a64729",
   "metadata": {
    "papermill": {
     "duration": 0.0113,
     "end_time": "2023-02-06T07:59:29.751372",
     "exception": false,
     "start_time": "2023-02-06T07:59:29.740072",
     "status": "completed"
    },
    "tags": []
   },
   "source": [
    "> **We are importing some libraries :**"
   ]
  },
  {
   "cell_type": "code",
   "execution_count": 2,
   "id": "243914d7",
   "metadata": {
    "execution": {
     "iopub.execute_input": "2023-02-06T07:59:29.776653Z",
     "iopub.status.busy": "2023-02-06T07:59:29.776073Z",
     "iopub.status.idle": "2023-02-06T07:59:29.780782Z",
     "shell.execute_reply": "2023-02-06T07:59:29.780025Z"
    },
    "papermill": {
     "duration": 0.019907,
     "end_time": "2023-02-06T07:59:29.783092",
     "exception": false,
     "start_time": "2023-02-06T07:59:29.763185",
     "status": "completed"
    },
    "tags": []
   },
   "outputs": [],
   "source": [
    "import pandas as pd "
   ]
  },
  {
   "cell_type": "code",
   "execution_count": 3,
   "id": "6b9fe005",
   "metadata": {
    "execution": {
     "iopub.execute_input": "2023-02-06T07:59:29.809122Z",
     "iopub.status.busy": "2023-02-06T07:59:29.808386Z",
     "iopub.status.idle": "2023-02-06T07:59:29.855457Z",
     "shell.execute_reply": "2023-02-06T07:59:29.854817Z"
    },
    "papermill": {
     "duration": 0.062196,
     "end_time": "2023-02-06T07:59:29.857674",
     "exception": false,
     "start_time": "2023-02-06T07:59:29.795478",
     "status": "completed"
    },
    "tags": []
   },
   "outputs": [],
   "source": [
    "# reading dataset\n",
    "df = pd.read_csv(\"/kaggle/input/new-dataset-of-retailstore/NEWRetaildatasetofGRIPFEB023.csv\")"
   ]
  },
  {
   "cell_type": "code",
   "execution_count": 4,
   "id": "0e003334",
   "metadata": {
    "execution": {
     "iopub.execute_input": "2023-02-06T07:59:29.883486Z",
     "iopub.status.busy": "2023-02-06T07:59:29.882941Z",
     "iopub.status.idle": "2023-02-06T07:59:29.904249Z",
     "shell.execute_reply": "2023-02-06T07:59:29.903017Z"
    },
    "papermill": {
     "duration": 0.036522,
     "end_time": "2023-02-06T07:59:29.906138",
     "exception": false,
     "start_time": "2023-02-06T07:59:29.869616",
     "status": "completed"
    },
    "tags": []
   },
   "outputs": [
    {
     "data": {
      "text/html": [
       "<div>\n",
       "<style scoped>\n",
       "    .dataframe tbody tr th:only-of-type {\n",
       "        vertical-align: middle;\n",
       "    }\n",
       "\n",
       "    .dataframe tbody tr th {\n",
       "        vertical-align: top;\n",
       "    }\n",
       "\n",
       "    .dataframe thead th {\n",
       "        text-align: right;\n",
       "    }\n",
       "</style>\n",
       "<table border=\"1\" class=\"dataframe\">\n",
       "  <thead>\n",
       "    <tr style=\"text-align: right;\">\n",
       "      <th></th>\n",
       "      <th>Ship Mode</th>\n",
       "      <th>Segment</th>\n",
       "      <th>Country</th>\n",
       "      <th>City</th>\n",
       "      <th>State</th>\n",
       "      <th>Postal Code</th>\n",
       "      <th>Region</th>\n",
       "      <th>Category</th>\n",
       "      <th>Subclass-Category</th>\n",
       "      <th>Sales</th>\n",
       "      <th>Quantity</th>\n",
       "      <th>Discounts</th>\n",
       "      <th>Profits</th>\n",
       "    </tr>\n",
       "  </thead>\n",
       "  <tbody>\n",
       "    <tr>\n",
       "      <th>0</th>\n",
       "      <td>Second Class</td>\n",
       "      <td>Consumer</td>\n",
       "      <td>United States</td>\n",
       "      <td>Henderson</td>\n",
       "      <td>Kentucky</td>\n",
       "      <td>42420</td>\n",
       "      <td>South</td>\n",
       "      <td>Furniture</td>\n",
       "      <td>Bookcases</td>\n",
       "      <td>261.9600</td>\n",
       "      <td>2</td>\n",
       "      <td>0.00</td>\n",
       "      <td>41.9136</td>\n",
       "    </tr>\n",
       "    <tr>\n",
       "      <th>1</th>\n",
       "      <td>Second Class</td>\n",
       "      <td>Consumer</td>\n",
       "      <td>United States</td>\n",
       "      <td>Henderson</td>\n",
       "      <td>Kentucky</td>\n",
       "      <td>42420</td>\n",
       "      <td>South</td>\n",
       "      <td>Furniture</td>\n",
       "      <td>Chairs</td>\n",
       "      <td>731.9400</td>\n",
       "      <td>3</td>\n",
       "      <td>0.00</td>\n",
       "      <td>219.5820</td>\n",
       "    </tr>\n",
       "    <tr>\n",
       "      <th>2</th>\n",
       "      <td>Second Class</td>\n",
       "      <td>Corporate</td>\n",
       "      <td>United States</td>\n",
       "      <td>Los Angeles</td>\n",
       "      <td>California</td>\n",
       "      <td>90036</td>\n",
       "      <td>West</td>\n",
       "      <td>Office Supplies</td>\n",
       "      <td>Labels</td>\n",
       "      <td>14.6200</td>\n",
       "      <td>2</td>\n",
       "      <td>0.00</td>\n",
       "      <td>6.8714</td>\n",
       "    </tr>\n",
       "    <tr>\n",
       "      <th>3</th>\n",
       "      <td>Standard Class</td>\n",
       "      <td>Consumer</td>\n",
       "      <td>United States</td>\n",
       "      <td>Fort Lauderdale</td>\n",
       "      <td>Florida</td>\n",
       "      <td>33311</td>\n",
       "      <td>South</td>\n",
       "      <td>Furniture</td>\n",
       "      <td>Tables</td>\n",
       "      <td>957.5775</td>\n",
       "      <td>5</td>\n",
       "      <td>0.45</td>\n",
       "      <td>-383.0310</td>\n",
       "    </tr>\n",
       "    <tr>\n",
       "      <th>4</th>\n",
       "      <td>Standard Class</td>\n",
       "      <td>Consumer</td>\n",
       "      <td>United States</td>\n",
       "      <td>Fort Lauderdale</td>\n",
       "      <td>Florida</td>\n",
       "      <td>33311</td>\n",
       "      <td>South</td>\n",
       "      <td>Office Supplies</td>\n",
       "      <td>Storage</td>\n",
       "      <td>22.3680</td>\n",
       "      <td>2</td>\n",
       "      <td>0.20</td>\n",
       "      <td>2.5164</td>\n",
       "    </tr>\n",
       "  </tbody>\n",
       "</table>\n",
       "</div>"
      ],
      "text/plain": [
       "        Ship Mode    Segment        Country             City       State  \\\n",
       "0    Second Class   Consumer  United States        Henderson    Kentucky   \n",
       "1    Second Class   Consumer  United States        Henderson    Kentucky   \n",
       "2    Second Class  Corporate  United States      Los Angeles  California   \n",
       "3  Standard Class   Consumer  United States  Fort Lauderdale     Florida   \n",
       "4  Standard Class   Consumer  United States  Fort Lauderdale     Florida   \n",
       "\n",
       "   Postal Code Region         Category Subclass-Category     Sales  Quantity  \\\n",
       "0        42420  South        Furniture         Bookcases  261.9600         2   \n",
       "1        42420  South        Furniture            Chairs  731.9400         3   \n",
       "2        90036   West  Office Supplies            Labels   14.6200         2   \n",
       "3        33311  South        Furniture            Tables  957.5775         5   \n",
       "4        33311  South  Office Supplies           Storage   22.3680         2   \n",
       "\n",
       "   Discounts   Profits  \n",
       "0       0.00   41.9136  \n",
       "1       0.00  219.5820  \n",
       "2       0.00    6.8714  \n",
       "3       0.45 -383.0310  \n",
       "4       0.20    2.5164  "
      ]
     },
     "execution_count": 4,
     "metadata": {},
     "output_type": "execute_result"
    }
   ],
   "source": [
    "df.head()"
   ]
  },
  {
   "cell_type": "code",
   "execution_count": 5,
   "id": "319b1893",
   "metadata": {
    "execution": {
     "iopub.execute_input": "2023-02-06T07:59:29.932038Z",
     "iopub.status.busy": "2023-02-06T07:59:29.931624Z",
     "iopub.status.idle": "2023-02-06T07:59:29.947134Z",
     "shell.execute_reply": "2023-02-06T07:59:29.946121Z"
    },
    "papermill": {
     "duration": 0.030783,
     "end_time": "2023-02-06T07:59:29.949038",
     "exception": false,
     "start_time": "2023-02-06T07:59:29.918255",
     "status": "completed"
    },
    "tags": []
   },
   "outputs": [
    {
     "data": {
      "text/html": [
       "<div>\n",
       "<style scoped>\n",
       "    .dataframe tbody tr th:only-of-type {\n",
       "        vertical-align: middle;\n",
       "    }\n",
       "\n",
       "    .dataframe tbody tr th {\n",
       "        vertical-align: top;\n",
       "    }\n",
       "\n",
       "    .dataframe thead th {\n",
       "        text-align: right;\n",
       "    }\n",
       "</style>\n",
       "<table border=\"1\" class=\"dataframe\">\n",
       "  <thead>\n",
       "    <tr style=\"text-align: right;\">\n",
       "      <th></th>\n",
       "      <th>Ship Mode</th>\n",
       "      <th>Segment</th>\n",
       "      <th>Country</th>\n",
       "      <th>City</th>\n",
       "      <th>State</th>\n",
       "      <th>Postal Code</th>\n",
       "      <th>Region</th>\n",
       "      <th>Category</th>\n",
       "      <th>Subclass-Category</th>\n",
       "      <th>Sales</th>\n",
       "      <th>Quantity</th>\n",
       "      <th>Discounts</th>\n",
       "      <th>Profits</th>\n",
       "    </tr>\n",
       "  </thead>\n",
       "  <tbody>\n",
       "    <tr>\n",
       "      <th>9989</th>\n",
       "      <td>Second Class</td>\n",
       "      <td>Consumer</td>\n",
       "      <td>United States</td>\n",
       "      <td>Miami</td>\n",
       "      <td>Florida</td>\n",
       "      <td>33180</td>\n",
       "      <td>South</td>\n",
       "      <td>Furniture</td>\n",
       "      <td>Furnishings</td>\n",
       "      <td>25.248</td>\n",
       "      <td>3</td>\n",
       "      <td>0.2</td>\n",
       "      <td>4.1028</td>\n",
       "    </tr>\n",
       "    <tr>\n",
       "      <th>9990</th>\n",
       "      <td>Standard Class</td>\n",
       "      <td>Consumer</td>\n",
       "      <td>United States</td>\n",
       "      <td>Costa Mesa</td>\n",
       "      <td>California</td>\n",
       "      <td>92627</td>\n",
       "      <td>West</td>\n",
       "      <td>Furniture</td>\n",
       "      <td>Furnishings</td>\n",
       "      <td>91.960</td>\n",
       "      <td>2</td>\n",
       "      <td>0.0</td>\n",
       "      <td>15.6332</td>\n",
       "    </tr>\n",
       "    <tr>\n",
       "      <th>9991</th>\n",
       "      <td>Standard Class</td>\n",
       "      <td>Consumer</td>\n",
       "      <td>United States</td>\n",
       "      <td>Costa Mesa</td>\n",
       "      <td>California</td>\n",
       "      <td>92627</td>\n",
       "      <td>West</td>\n",
       "      <td>Technology</td>\n",
       "      <td>Phones</td>\n",
       "      <td>258.576</td>\n",
       "      <td>2</td>\n",
       "      <td>0.2</td>\n",
       "      <td>19.3932</td>\n",
       "    </tr>\n",
       "    <tr>\n",
       "      <th>9992</th>\n",
       "      <td>Standard Class</td>\n",
       "      <td>Consumer</td>\n",
       "      <td>United States</td>\n",
       "      <td>Costa Mesa</td>\n",
       "      <td>California</td>\n",
       "      <td>92627</td>\n",
       "      <td>West</td>\n",
       "      <td>Office Supplies</td>\n",
       "      <td>Paper</td>\n",
       "      <td>29.600</td>\n",
       "      <td>4</td>\n",
       "      <td>0.0</td>\n",
       "      <td>13.3200</td>\n",
       "    </tr>\n",
       "    <tr>\n",
       "      <th>9993</th>\n",
       "      <td>Second Class</td>\n",
       "      <td>Consumer</td>\n",
       "      <td>United States</td>\n",
       "      <td>Westminster</td>\n",
       "      <td>California</td>\n",
       "      <td>92683</td>\n",
       "      <td>West</td>\n",
       "      <td>Office Supplies</td>\n",
       "      <td>Appliances</td>\n",
       "      <td>243.160</td>\n",
       "      <td>2</td>\n",
       "      <td>0.0</td>\n",
       "      <td>72.9480</td>\n",
       "    </tr>\n",
       "  </tbody>\n",
       "</table>\n",
       "</div>"
      ],
      "text/plain": [
       "           Ship Mode   Segment        Country         City       State  \\\n",
       "9989    Second Class  Consumer  United States        Miami     Florida   \n",
       "9990  Standard Class  Consumer  United States   Costa Mesa  California   \n",
       "9991  Standard Class  Consumer  United States   Costa Mesa  California   \n",
       "9992  Standard Class  Consumer  United States   Costa Mesa  California   \n",
       "9993    Second Class  Consumer  United States  Westminster  California   \n",
       "\n",
       "      Postal Code Region         Category Subclass-Category    Sales  \\\n",
       "9989        33180  South        Furniture       Furnishings   25.248   \n",
       "9990        92627   West        Furniture       Furnishings   91.960   \n",
       "9991        92627   West       Technology            Phones  258.576   \n",
       "9992        92627   West  Office Supplies             Paper   29.600   \n",
       "9993        92683   West  Office Supplies        Appliances  243.160   \n",
       "\n",
       "      Quantity  Discounts  Profits  \n",
       "9989         3        0.2   4.1028  \n",
       "9990         2        0.0  15.6332  \n",
       "9991         2        0.2  19.3932  \n",
       "9992         4        0.0  13.3200  \n",
       "9993         2        0.0  72.9480  "
      ]
     },
     "execution_count": 5,
     "metadata": {},
     "output_type": "execute_result"
    }
   ],
   "source": [
    "df.tail()"
   ]
  },
  {
   "cell_type": "code",
   "execution_count": 6,
   "id": "86e951f8",
   "metadata": {
    "execution": {
     "iopub.execute_input": "2023-02-06T07:59:29.974529Z",
     "iopub.status.busy": "2023-02-06T07:59:29.974208Z",
     "iopub.status.idle": "2023-02-06T07:59:29.980547Z",
     "shell.execute_reply": "2023-02-06T07:59:29.979553Z"
    },
    "papermill": {
     "duration": 0.021366,
     "end_time": "2023-02-06T07:59:29.982559",
     "exception": false,
     "start_time": "2023-02-06T07:59:29.961193",
     "status": "completed"
    },
    "tags": []
   },
   "outputs": [
    {
     "data": {
      "text/plain": [
       "(9994, 13)"
      ]
     },
     "execution_count": 6,
     "metadata": {},
     "output_type": "execute_result"
    }
   ],
   "source": [
    "df.shape"
   ]
  },
  {
   "cell_type": "code",
   "execution_count": 7,
   "id": "677ea5de",
   "metadata": {
    "execution": {
     "iopub.execute_input": "2023-02-06T07:59:30.009256Z",
     "iopub.status.busy": "2023-02-06T07:59:30.008848Z",
     "iopub.status.idle": "2023-02-06T07:59:30.022198Z",
     "shell.execute_reply": "2023-02-06T07:59:30.020574Z"
    },
    "papermill": {
     "duration": 0.029325,
     "end_time": "2023-02-06T07:59:30.024839",
     "exception": false,
     "start_time": "2023-02-06T07:59:29.995514",
     "status": "completed"
    },
    "tags": []
   },
   "outputs": [
    {
     "data": {
      "text/plain": [
       "0             Furniture\n",
       "1             Furniture\n",
       "2       Office Supplies\n",
       "3             Furniture\n",
       "4       Office Supplies\n",
       "             ...       \n",
       "9989          Furniture\n",
       "9990          Furniture\n",
       "9991         Technology\n",
       "9992    Office Supplies\n",
       "9993    Office Supplies\n",
       "Name: Category, Length: 9994, dtype: object"
      ]
     },
     "execution_count": 7,
     "metadata": {},
     "output_type": "execute_result"
    }
   ],
   "source": [
    "df.Category"
   ]
  },
  {
   "cell_type": "code",
   "execution_count": 8,
   "id": "ff2294e7",
   "metadata": {
    "execution": {
     "iopub.execute_input": "2023-02-06T07:59:30.051177Z",
     "iopub.status.busy": "2023-02-06T07:59:30.050825Z",
     "iopub.status.idle": "2023-02-06T07:59:30.080645Z",
     "shell.execute_reply": "2023-02-06T07:59:30.079950Z"
    },
    "papermill": {
     "duration": 0.045207,
     "end_time": "2023-02-06T07:59:30.082476",
     "exception": false,
     "start_time": "2023-02-06T07:59:30.037269",
     "status": "completed"
    },
    "tags": []
   },
   "outputs": [
    {
     "data": {
      "text/html": [
       "<div>\n",
       "<style scoped>\n",
       "    .dataframe tbody tr th:only-of-type {\n",
       "        vertical-align: middle;\n",
       "    }\n",
       "\n",
       "    .dataframe tbody tr th {\n",
       "        vertical-align: top;\n",
       "    }\n",
       "\n",
       "    .dataframe thead th {\n",
       "        text-align: right;\n",
       "    }\n",
       "</style>\n",
       "<table border=\"1\" class=\"dataframe\">\n",
       "  <thead>\n",
       "    <tr style=\"text-align: right;\">\n",
       "      <th></th>\n",
       "      <th>Postal Code</th>\n",
       "      <th>Sales</th>\n",
       "      <th>Quantity</th>\n",
       "      <th>Discounts</th>\n",
       "      <th>Profits</th>\n",
       "    </tr>\n",
       "  </thead>\n",
       "  <tbody>\n",
       "    <tr>\n",
       "      <th>count</th>\n",
       "      <td>9994.000000</td>\n",
       "      <td>9994.000000</td>\n",
       "      <td>9994.000000</td>\n",
       "      <td>9994.000000</td>\n",
       "      <td>9994.000000</td>\n",
       "    </tr>\n",
       "    <tr>\n",
       "      <th>mean</th>\n",
       "      <td>55190.379428</td>\n",
       "      <td>229.858001</td>\n",
       "      <td>3.789574</td>\n",
       "      <td>0.156203</td>\n",
       "      <td>28.656896</td>\n",
       "    </tr>\n",
       "    <tr>\n",
       "      <th>std</th>\n",
       "      <td>32063.693350</td>\n",
       "      <td>623.245101</td>\n",
       "      <td>2.225110</td>\n",
       "      <td>0.206452</td>\n",
       "      <td>234.260108</td>\n",
       "    </tr>\n",
       "    <tr>\n",
       "      <th>min</th>\n",
       "      <td>1040.000000</td>\n",
       "      <td>0.444000</td>\n",
       "      <td>1.000000</td>\n",
       "      <td>0.000000</td>\n",
       "      <td>-6599.978000</td>\n",
       "    </tr>\n",
       "    <tr>\n",
       "      <th>25%</th>\n",
       "      <td>23223.000000</td>\n",
       "      <td>17.280000</td>\n",
       "      <td>2.000000</td>\n",
       "      <td>0.000000</td>\n",
       "      <td>1.728750</td>\n",
       "    </tr>\n",
       "    <tr>\n",
       "      <th>50%</th>\n",
       "      <td>56430.500000</td>\n",
       "      <td>54.490000</td>\n",
       "      <td>3.000000</td>\n",
       "      <td>0.200000</td>\n",
       "      <td>8.666500</td>\n",
       "    </tr>\n",
       "    <tr>\n",
       "      <th>75%</th>\n",
       "      <td>90008.000000</td>\n",
       "      <td>209.940000</td>\n",
       "      <td>5.000000</td>\n",
       "      <td>0.200000</td>\n",
       "      <td>29.364000</td>\n",
       "    </tr>\n",
       "    <tr>\n",
       "      <th>max</th>\n",
       "      <td>99301.000000</td>\n",
       "      <td>22638.480000</td>\n",
       "      <td>14.000000</td>\n",
       "      <td>0.800000</td>\n",
       "      <td>8399.976000</td>\n",
       "    </tr>\n",
       "  </tbody>\n",
       "</table>\n",
       "</div>"
      ],
      "text/plain": [
       "        Postal Code         Sales     Quantity    Discounts      Profits\n",
       "count   9994.000000   9994.000000  9994.000000  9994.000000  9994.000000\n",
       "mean   55190.379428    229.858001     3.789574     0.156203    28.656896\n",
       "std    32063.693350    623.245101     2.225110     0.206452   234.260108\n",
       "min     1040.000000      0.444000     1.000000     0.000000 -6599.978000\n",
       "25%    23223.000000     17.280000     2.000000     0.000000     1.728750\n",
       "50%    56430.500000     54.490000     3.000000     0.200000     8.666500\n",
       "75%    90008.000000    209.940000     5.000000     0.200000    29.364000\n",
       "max    99301.000000  22638.480000    14.000000     0.800000  8399.976000"
      ]
     },
     "execution_count": 8,
     "metadata": {},
     "output_type": "execute_result"
    }
   ],
   "source": [
    "# Getting Information of data or we can say insight \n",
    "\n",
    "df.describe()"
   ]
  },
  {
   "cell_type": "code",
   "execution_count": 9,
   "id": "1324f0d2",
   "metadata": {
    "execution": {
     "iopub.execute_input": "2023-02-06T07:59:30.109997Z",
     "iopub.status.busy": "2023-02-06T07:59:30.109383Z",
     "iopub.status.idle": "2023-02-06T07:59:30.113255Z",
     "shell.execute_reply": "2023-02-06T07:59:30.112202Z"
    },
    "papermill": {
     "duration": 0.020165,
     "end_time": "2023-02-06T07:59:30.115458",
     "exception": false,
     "start_time": "2023-02-06T07:59:30.095293",
     "status": "completed"
    },
    "tags": []
   },
   "outputs": [],
   "source": [
    "# Deleting unwanted columns : "
   ]
  },
  {
   "cell_type": "code",
   "execution_count": 10,
   "id": "d09bef78",
   "metadata": {
    "execution": {
     "iopub.execute_input": "2023-02-06T07:59:30.142469Z",
     "iopub.status.busy": "2023-02-06T07:59:30.141949Z",
     "iopub.status.idle": "2023-02-06T07:59:30.147077Z",
     "shell.execute_reply": "2023-02-06T07:59:30.146286Z"
    },
    "papermill": {
     "duration": 0.021514,
     "end_time": "2023-02-06T07:59:30.149683",
     "exception": false,
     "start_time": "2023-02-06T07:59:30.128169",
     "status": "completed"
    },
    "tags": []
   },
   "outputs": [],
   "source": [
    "df = df.drop(columns = 'Postal Code')"
   ]
  },
  {
   "cell_type": "code",
   "execution_count": 11,
   "id": "05ea898a",
   "metadata": {
    "execution": {
     "iopub.execute_input": "2023-02-06T07:59:30.176510Z",
     "iopub.status.busy": "2023-02-06T07:59:30.176141Z",
     "iopub.status.idle": "2023-02-06T07:59:30.196545Z",
     "shell.execute_reply": "2023-02-06T07:59:30.195705Z"
    },
    "papermill": {
     "duration": 0.036843,
     "end_time": "2023-02-06T07:59:30.199225",
     "exception": false,
     "start_time": "2023-02-06T07:59:30.162382",
     "status": "completed"
    },
    "tags": []
   },
   "outputs": [
    {
     "data": {
      "text/html": [
       "<div>\n",
       "<style scoped>\n",
       "    .dataframe tbody tr th:only-of-type {\n",
       "        vertical-align: middle;\n",
       "    }\n",
       "\n",
       "    .dataframe tbody tr th {\n",
       "        vertical-align: top;\n",
       "    }\n",
       "\n",
       "    .dataframe thead th {\n",
       "        text-align: right;\n",
       "    }\n",
       "</style>\n",
       "<table border=\"1\" class=\"dataframe\">\n",
       "  <thead>\n",
       "    <tr style=\"text-align: right;\">\n",
       "      <th></th>\n",
       "      <th>Sales</th>\n",
       "      <th>Quantity</th>\n",
       "      <th>Discounts</th>\n",
       "      <th>Profits</th>\n",
       "    </tr>\n",
       "  </thead>\n",
       "  <tbody>\n",
       "    <tr>\n",
       "      <th>count</th>\n",
       "      <td>9994.000000</td>\n",
       "      <td>9994.000000</td>\n",
       "      <td>9994.000000</td>\n",
       "      <td>9994.000000</td>\n",
       "    </tr>\n",
       "    <tr>\n",
       "      <th>mean</th>\n",
       "      <td>229.858001</td>\n",
       "      <td>3.789574</td>\n",
       "      <td>0.156203</td>\n",
       "      <td>28.656896</td>\n",
       "    </tr>\n",
       "    <tr>\n",
       "      <th>std</th>\n",
       "      <td>623.245101</td>\n",
       "      <td>2.225110</td>\n",
       "      <td>0.206452</td>\n",
       "      <td>234.260108</td>\n",
       "    </tr>\n",
       "    <tr>\n",
       "      <th>min</th>\n",
       "      <td>0.444000</td>\n",
       "      <td>1.000000</td>\n",
       "      <td>0.000000</td>\n",
       "      <td>-6599.978000</td>\n",
       "    </tr>\n",
       "    <tr>\n",
       "      <th>25%</th>\n",
       "      <td>17.280000</td>\n",
       "      <td>2.000000</td>\n",
       "      <td>0.000000</td>\n",
       "      <td>1.728750</td>\n",
       "    </tr>\n",
       "    <tr>\n",
       "      <th>50%</th>\n",
       "      <td>54.490000</td>\n",
       "      <td>3.000000</td>\n",
       "      <td>0.200000</td>\n",
       "      <td>8.666500</td>\n",
       "    </tr>\n",
       "    <tr>\n",
       "      <th>75%</th>\n",
       "      <td>209.940000</td>\n",
       "      <td>5.000000</td>\n",
       "      <td>0.200000</td>\n",
       "      <td>29.364000</td>\n",
       "    </tr>\n",
       "    <tr>\n",
       "      <th>max</th>\n",
       "      <td>22638.480000</td>\n",
       "      <td>14.000000</td>\n",
       "      <td>0.800000</td>\n",
       "      <td>8399.976000</td>\n",
       "    </tr>\n",
       "  </tbody>\n",
       "</table>\n",
       "</div>"
      ],
      "text/plain": [
       "              Sales     Quantity    Discounts      Profits\n",
       "count   9994.000000  9994.000000  9994.000000  9994.000000\n",
       "mean     229.858001     3.789574     0.156203    28.656896\n",
       "std      623.245101     2.225110     0.206452   234.260108\n",
       "min        0.444000     1.000000     0.000000 -6599.978000\n",
       "25%       17.280000     2.000000     0.000000     1.728750\n",
       "50%       54.490000     3.000000     0.200000     8.666500\n",
       "75%      209.940000     5.000000     0.200000    29.364000\n",
       "max    22638.480000    14.000000     0.800000  8399.976000"
      ]
     },
     "execution_count": 11,
     "metadata": {},
     "output_type": "execute_result"
    }
   ],
   "source": [
    "# We are checking again for data as we now remove the unwanted columns\n",
    "\n",
    "df.describe()"
   ]
  },
  {
   "cell_type": "code",
   "execution_count": 12,
   "id": "02ab1009",
   "metadata": {
    "execution": {
     "iopub.execute_input": "2023-02-06T07:59:30.226376Z",
     "iopub.status.busy": "2023-02-06T07:59:30.225708Z",
     "iopub.status.idle": "2023-02-06T07:59:30.243891Z",
     "shell.execute_reply": "2023-02-06T07:59:30.243229Z"
    },
    "papermill": {
     "duration": 0.033778,
     "end_time": "2023-02-06T07:59:30.245638",
     "exception": false,
     "start_time": "2023-02-06T07:59:30.211860",
     "status": "completed"
    },
    "tags": []
   },
   "outputs": [
    {
     "data": {
      "text/plain": [
       "50"
      ]
     },
     "execution_count": 12,
     "metadata": {},
     "output_type": "execute_result"
    }
   ],
   "source": [
    "df.duplicated().sum() # Finding Duplicate values\n"
   ]
  },
  {
   "cell_type": "code",
   "execution_count": 13,
   "id": "8c05ffa4",
   "metadata": {
    "execution": {
     "iopub.execute_input": "2023-02-06T07:59:30.273582Z",
     "iopub.status.busy": "2023-02-06T07:59:30.273039Z",
     "iopub.status.idle": "2023-02-06T07:59:30.301661Z",
     "shell.execute_reply": "2023-02-06T07:59:30.300620Z"
    },
    "papermill": {
     "duration": 0.044531,
     "end_time": "2023-02-06T07:59:30.303650",
     "exception": false,
     "start_time": "2023-02-06T07:59:30.259119",
     "status": "completed"
    },
    "tags": []
   },
   "outputs": [
    {
     "data": {
      "text/html": [
       "<div>\n",
       "<style scoped>\n",
       "    .dataframe tbody tr th:only-of-type {\n",
       "        vertical-align: middle;\n",
       "    }\n",
       "\n",
       "    .dataframe tbody tr th {\n",
       "        vertical-align: top;\n",
       "    }\n",
       "\n",
       "    .dataframe thead th {\n",
       "        text-align: right;\n",
       "    }\n",
       "</style>\n",
       "<table border=\"1\" class=\"dataframe\">\n",
       "  <thead>\n",
       "    <tr style=\"text-align: right;\">\n",
       "      <th></th>\n",
       "      <th>Ship Mode</th>\n",
       "      <th>Segment</th>\n",
       "      <th>Country</th>\n",
       "      <th>City</th>\n",
       "      <th>State</th>\n",
       "      <th>Region</th>\n",
       "      <th>Category</th>\n",
       "      <th>Subclass-Category</th>\n",
       "      <th>Sales</th>\n",
       "      <th>Quantity</th>\n",
       "      <th>Discounts</th>\n",
       "      <th>Profits</th>\n",
       "    </tr>\n",
       "  </thead>\n",
       "  <tbody>\n",
       "    <tr>\n",
       "      <th>0</th>\n",
       "      <td>Second Class</td>\n",
       "      <td>Consumer</td>\n",
       "      <td>United States</td>\n",
       "      <td>Henderson</td>\n",
       "      <td>Kentucky</td>\n",
       "      <td>South</td>\n",
       "      <td>Furniture</td>\n",
       "      <td>Bookcases</td>\n",
       "      <td>261.9600</td>\n",
       "      <td>2</td>\n",
       "      <td>0.00</td>\n",
       "      <td>41.9136</td>\n",
       "    </tr>\n",
       "    <tr>\n",
       "      <th>1</th>\n",
       "      <td>Second Class</td>\n",
       "      <td>Consumer</td>\n",
       "      <td>United States</td>\n",
       "      <td>Henderson</td>\n",
       "      <td>Kentucky</td>\n",
       "      <td>South</td>\n",
       "      <td>Furniture</td>\n",
       "      <td>Chairs</td>\n",
       "      <td>731.9400</td>\n",
       "      <td>3</td>\n",
       "      <td>0.00</td>\n",
       "      <td>219.5820</td>\n",
       "    </tr>\n",
       "    <tr>\n",
       "      <th>2</th>\n",
       "      <td>Second Class</td>\n",
       "      <td>Corporate</td>\n",
       "      <td>United States</td>\n",
       "      <td>Los Angeles</td>\n",
       "      <td>California</td>\n",
       "      <td>West</td>\n",
       "      <td>Office Supplies</td>\n",
       "      <td>Labels</td>\n",
       "      <td>14.6200</td>\n",
       "      <td>2</td>\n",
       "      <td>0.00</td>\n",
       "      <td>6.8714</td>\n",
       "    </tr>\n",
       "    <tr>\n",
       "      <th>3</th>\n",
       "      <td>Standard Class</td>\n",
       "      <td>Consumer</td>\n",
       "      <td>United States</td>\n",
       "      <td>Fort Lauderdale</td>\n",
       "      <td>Florida</td>\n",
       "      <td>South</td>\n",
       "      <td>Furniture</td>\n",
       "      <td>Tables</td>\n",
       "      <td>957.5775</td>\n",
       "      <td>5</td>\n",
       "      <td>0.45</td>\n",
       "      <td>-383.0310</td>\n",
       "    </tr>\n",
       "    <tr>\n",
       "      <th>4</th>\n",
       "      <td>Standard Class</td>\n",
       "      <td>Consumer</td>\n",
       "      <td>United States</td>\n",
       "      <td>Fort Lauderdale</td>\n",
       "      <td>Florida</td>\n",
       "      <td>South</td>\n",
       "      <td>Office Supplies</td>\n",
       "      <td>Storage</td>\n",
       "      <td>22.3680</td>\n",
       "      <td>2</td>\n",
       "      <td>0.20</td>\n",
       "      <td>2.5164</td>\n",
       "    </tr>\n",
       "    <tr>\n",
       "      <th>...</th>\n",
       "      <td>...</td>\n",
       "      <td>...</td>\n",
       "      <td>...</td>\n",
       "      <td>...</td>\n",
       "      <td>...</td>\n",
       "      <td>...</td>\n",
       "      <td>...</td>\n",
       "      <td>...</td>\n",
       "      <td>...</td>\n",
       "      <td>...</td>\n",
       "      <td>...</td>\n",
       "      <td>...</td>\n",
       "    </tr>\n",
       "    <tr>\n",
       "      <th>9989</th>\n",
       "      <td>Second Class</td>\n",
       "      <td>Consumer</td>\n",
       "      <td>United States</td>\n",
       "      <td>Miami</td>\n",
       "      <td>Florida</td>\n",
       "      <td>South</td>\n",
       "      <td>Furniture</td>\n",
       "      <td>Furnishings</td>\n",
       "      <td>25.2480</td>\n",
       "      <td>3</td>\n",
       "      <td>0.20</td>\n",
       "      <td>4.1028</td>\n",
       "    </tr>\n",
       "    <tr>\n",
       "      <th>9990</th>\n",
       "      <td>Standard Class</td>\n",
       "      <td>Consumer</td>\n",
       "      <td>United States</td>\n",
       "      <td>Costa Mesa</td>\n",
       "      <td>California</td>\n",
       "      <td>West</td>\n",
       "      <td>Furniture</td>\n",
       "      <td>Furnishings</td>\n",
       "      <td>91.9600</td>\n",
       "      <td>2</td>\n",
       "      <td>0.00</td>\n",
       "      <td>15.6332</td>\n",
       "    </tr>\n",
       "    <tr>\n",
       "      <th>9991</th>\n",
       "      <td>Standard Class</td>\n",
       "      <td>Consumer</td>\n",
       "      <td>United States</td>\n",
       "      <td>Costa Mesa</td>\n",
       "      <td>California</td>\n",
       "      <td>West</td>\n",
       "      <td>Technology</td>\n",
       "      <td>Phones</td>\n",
       "      <td>258.5760</td>\n",
       "      <td>2</td>\n",
       "      <td>0.20</td>\n",
       "      <td>19.3932</td>\n",
       "    </tr>\n",
       "    <tr>\n",
       "      <th>9992</th>\n",
       "      <td>Standard Class</td>\n",
       "      <td>Consumer</td>\n",
       "      <td>United States</td>\n",
       "      <td>Costa Mesa</td>\n",
       "      <td>California</td>\n",
       "      <td>West</td>\n",
       "      <td>Office Supplies</td>\n",
       "      <td>Paper</td>\n",
       "      <td>29.6000</td>\n",
       "      <td>4</td>\n",
       "      <td>0.00</td>\n",
       "      <td>13.3200</td>\n",
       "    </tr>\n",
       "    <tr>\n",
       "      <th>9993</th>\n",
       "      <td>Second Class</td>\n",
       "      <td>Consumer</td>\n",
       "      <td>United States</td>\n",
       "      <td>Westminster</td>\n",
       "      <td>California</td>\n",
       "      <td>West</td>\n",
       "      <td>Office Supplies</td>\n",
       "      <td>Appliances</td>\n",
       "      <td>243.1600</td>\n",
       "      <td>2</td>\n",
       "      <td>0.00</td>\n",
       "      <td>72.9480</td>\n",
       "    </tr>\n",
       "  </tbody>\n",
       "</table>\n",
       "<p>9944 rows × 12 columns</p>\n",
       "</div>"
      ],
      "text/plain": [
       "           Ship Mode    Segment        Country             City       State  \\\n",
       "0       Second Class   Consumer  United States        Henderson    Kentucky   \n",
       "1       Second Class   Consumer  United States        Henderson    Kentucky   \n",
       "2       Second Class  Corporate  United States      Los Angeles  California   \n",
       "3     Standard Class   Consumer  United States  Fort Lauderdale     Florida   \n",
       "4     Standard Class   Consumer  United States  Fort Lauderdale     Florida   \n",
       "...              ...        ...            ...              ...         ...   \n",
       "9989    Second Class   Consumer  United States            Miami     Florida   \n",
       "9990  Standard Class   Consumer  United States       Costa Mesa  California   \n",
       "9991  Standard Class   Consumer  United States       Costa Mesa  California   \n",
       "9992  Standard Class   Consumer  United States       Costa Mesa  California   \n",
       "9993    Second Class   Consumer  United States      Westminster  California   \n",
       "\n",
       "     Region         Category Subclass-Category     Sales  Quantity  Discounts  \\\n",
       "0     South        Furniture         Bookcases  261.9600         2       0.00   \n",
       "1     South        Furniture            Chairs  731.9400         3       0.00   \n",
       "2      West  Office Supplies            Labels   14.6200         2       0.00   \n",
       "3     South        Furniture            Tables  957.5775         5       0.45   \n",
       "4     South  Office Supplies           Storage   22.3680         2       0.20   \n",
       "...     ...              ...               ...       ...       ...        ...   \n",
       "9989  South        Furniture       Furnishings   25.2480         3       0.20   \n",
       "9990   West        Furniture       Furnishings   91.9600         2       0.00   \n",
       "9991   West       Technology            Phones  258.5760         2       0.20   \n",
       "9992   West  Office Supplies             Paper   29.6000         4       0.00   \n",
       "9993   West  Office Supplies        Appliances  243.1600         2       0.00   \n",
       "\n",
       "       Profits  \n",
       "0      41.9136  \n",
       "1     219.5820  \n",
       "2       6.8714  \n",
       "3    -383.0310  \n",
       "4       2.5164  \n",
       "...        ...  \n",
       "9989    4.1028  \n",
       "9990   15.6332  \n",
       "9991   19.3932  \n",
       "9992   13.3200  \n",
       "9993   72.9480  \n",
       "\n",
       "[9944 rows x 12 columns]"
      ]
     },
     "execution_count": 13,
     "metadata": {},
     "output_type": "execute_result"
    }
   ],
   "source": [
    "df.drop_duplicates() # Removing Duplicates value"
   ]
  },
  {
   "cell_type": "code",
   "execution_count": 14,
   "id": "f949dca1",
   "metadata": {
    "execution": {
     "iopub.execute_input": "2023-02-06T07:59:30.331520Z",
     "iopub.status.busy": "2023-02-06T07:59:30.330897Z",
     "iopub.status.idle": "2023-02-06T07:59:30.337735Z",
     "shell.execute_reply": "2023-02-06T07:59:30.336814Z"
    },
    "papermill": {
     "duration": 0.023092,
     "end_time": "2023-02-06T07:59:30.340015",
     "exception": false,
     "start_time": "2023-02-06T07:59:30.316923",
     "status": "completed"
    },
    "tags": []
   },
   "outputs": [
    {
     "data": {
      "text/plain": [
       "(9994, 12)"
      ]
     },
     "execution_count": 14,
     "metadata": {},
     "output_type": "execute_result"
    }
   ],
   "source": [
    "df.shape # Here we are finding our new shape"
   ]
  },
  {
   "cell_type": "code",
   "execution_count": 15,
   "id": "d9d8c736",
   "metadata": {
    "execution": {
     "iopub.execute_input": "2023-02-06T07:59:30.367394Z",
     "iopub.status.busy": "2023-02-06T07:59:30.367004Z",
     "iopub.status.idle": "2023-02-06T07:59:30.371940Z",
     "shell.execute_reply": "2023-02-06T07:59:30.370507Z"
    },
    "papermill": {
     "duration": 0.021719,
     "end_time": "2023-02-06T07:59:30.374657",
     "exception": false,
     "start_time": "2023-02-06T07:59:30.352938",
     "status": "completed"
    },
    "tags": []
   },
   "outputs": [],
   "source": [
    "# Now we are looking for null values :"
   ]
  },
  {
   "cell_type": "code",
   "execution_count": 16,
   "id": "8b7ea3c9",
   "metadata": {
    "execution": {
     "iopub.execute_input": "2023-02-06T07:59:30.403127Z",
     "iopub.status.busy": "2023-02-06T07:59:30.402738Z",
     "iopub.status.idle": "2023-02-06T07:59:30.416268Z",
     "shell.execute_reply": "2023-02-06T07:59:30.415021Z"
    },
    "papermill": {
     "duration": 0.030416,
     "end_time": "2023-02-06T07:59:30.418657",
     "exception": false,
     "start_time": "2023-02-06T07:59:30.388241",
     "status": "completed"
    },
    "tags": []
   },
   "outputs": [
    {
     "data": {
      "text/plain": [
       "Ship Mode            0\n",
       "Segment              0\n",
       "Country              0\n",
       "City                 0\n",
       "State                0\n",
       "Region               0\n",
       "Category             0\n",
       "Subclass-Category    0\n",
       "Sales                0\n",
       "Quantity             0\n",
       "Discounts            0\n",
       "Profits              0\n",
       "dtype: int64"
      ]
     },
     "execution_count": 16,
     "metadata": {},
     "output_type": "execute_result"
    }
   ],
   "source": [
    "df.isnull().sum()"
   ]
  },
  {
   "cell_type": "code",
   "execution_count": 17,
   "id": "e949edb2",
   "metadata": {
    "execution": {
     "iopub.execute_input": "2023-02-06T07:59:30.447345Z",
     "iopub.status.busy": "2023-02-06T07:59:30.446997Z",
     "iopub.status.idle": "2023-02-06T07:59:30.450348Z",
     "shell.execute_reply": "2023-02-06T07:59:30.449493Z"
    },
    "papermill": {
     "duration": 0.020691,
     "end_time": "2023-02-06T07:59:30.452900",
     "exception": false,
     "start_time": "2023-02-06T07:59:30.432209",
     "status": "completed"
    },
    "tags": []
   },
   "outputs": [],
   "source": [
    "# by looking this we get to know that there is no null value"
   ]
  },
  {
   "cell_type": "code",
   "execution_count": 18,
   "id": "93ed8481",
   "metadata": {
    "execution": {
     "iopub.execute_input": "2023-02-06T07:59:30.481451Z",
     "iopub.status.busy": "2023-02-06T07:59:30.481106Z",
     "iopub.status.idle": "2023-02-06T07:59:30.500029Z",
     "shell.execute_reply": "2023-02-06T07:59:30.498521Z"
    },
    "papermill": {
     "duration": 0.035763,
     "end_time": "2023-02-06T07:59:30.502287",
     "exception": false,
     "start_time": "2023-02-06T07:59:30.466524",
     "status": "completed"
    },
    "tags": []
   },
   "outputs": [
    {
     "name": "stdout",
     "output_type": "stream",
     "text": [
      "<class 'pandas.core.frame.DataFrame'>\n",
      "RangeIndex: 9994 entries, 0 to 9993\n",
      "Data columns (total 12 columns):\n",
      " #   Column             Non-Null Count  Dtype  \n",
      "---  ------             --------------  -----  \n",
      " 0   Ship Mode          9994 non-null   object \n",
      " 1   Segment            9994 non-null   object \n",
      " 2   Country            9994 non-null   object \n",
      " 3   City               9994 non-null   object \n",
      " 4   State              9994 non-null   object \n",
      " 5   Region             9994 non-null   object \n",
      " 6   Category           9994 non-null   object \n",
      " 7   Subclass-Category  9994 non-null   object \n",
      " 8   Sales              9994 non-null   float64\n",
      " 9   Quantity           9994 non-null   int64  \n",
      " 10  Discounts          9994 non-null   float64\n",
      " 11  Profits            9994 non-null   float64\n",
      "dtypes: float64(3), int64(1), object(8)\n",
      "memory usage: 937.1+ KB\n"
     ]
    }
   ],
   "source": [
    "# Now we looking for info of this data by taking help of info function of pandas \n",
    "\n",
    "df.info()"
   ]
  },
  {
   "cell_type": "code",
   "execution_count": 19,
   "id": "112e1d20",
   "metadata": {
    "execution": {
     "iopub.execute_input": "2023-02-06T07:59:30.530790Z",
     "iopub.status.busy": "2023-02-06T07:59:30.530399Z",
     "iopub.status.idle": "2023-02-06T07:59:30.535114Z",
     "shell.execute_reply": "2023-02-06T07:59:30.534221Z"
    },
    "papermill": {
     "duration": 0.021911,
     "end_time": "2023-02-06T07:59:30.537784",
     "exception": false,
     "start_time": "2023-02-06T07:59:30.515873",
     "status": "completed"
    },
    "tags": []
   },
   "outputs": [],
   "source": [
    "# we are now checking Data Types in given dataset:\n"
   ]
  },
  {
   "cell_type": "code",
   "execution_count": 20,
   "id": "75601b50",
   "metadata": {
    "execution": {
     "iopub.execute_input": "2023-02-06T07:59:30.567696Z",
     "iopub.status.busy": "2023-02-06T07:59:30.567348Z",
     "iopub.status.idle": "2023-02-06T07:59:30.575133Z",
     "shell.execute_reply": "2023-02-06T07:59:30.573840Z"
    },
    "papermill": {
     "duration": 0.025201,
     "end_time": "2023-02-06T07:59:30.577127",
     "exception": false,
     "start_time": "2023-02-06T07:59:30.551926",
     "status": "completed"
    },
    "tags": []
   },
   "outputs": [
    {
     "data": {
      "text/plain": [
       "Ship Mode             object\n",
       "Segment               object\n",
       "Country               object\n",
       "City                  object\n",
       "State                 object\n",
       "Region                object\n",
       "Category              object\n",
       "Subclass-Category     object\n",
       "Sales                float64\n",
       "Quantity               int64\n",
       "Discounts            float64\n",
       "Profits              float64\n",
       "dtype: object"
      ]
     },
     "execution_count": 20,
     "metadata": {},
     "output_type": "execute_result"
    }
   ],
   "source": [
    "df.dtypes"
   ]
  },
  {
   "cell_type": "code",
   "execution_count": 21,
   "id": "742c6a08",
   "metadata": {
    "execution": {
     "iopub.execute_input": "2023-02-06T07:59:30.606707Z",
     "iopub.status.busy": "2023-02-06T07:59:30.606309Z",
     "iopub.status.idle": "2023-02-06T07:59:30.611648Z",
     "shell.execute_reply": "2023-02-06T07:59:30.610887Z"
    },
    "papermill": {
     "duration": 0.022735,
     "end_time": "2023-02-06T07:59:30.613455",
     "exception": false,
     "start_time": "2023-02-06T07:59:30.590720",
     "status": "completed"
    },
    "tags": []
   },
   "outputs": [],
   "source": [
    "# Now we visualize data "
   ]
  },
  {
   "cell_type": "code",
   "execution_count": 22,
   "id": "c740afa4",
   "metadata": {
    "execution": {
     "iopub.execute_input": "2023-02-06T07:59:30.641744Z",
     "iopub.status.busy": "2023-02-06T07:59:30.641405Z",
     "iopub.status.idle": "2023-02-06T07:59:31.541387Z",
     "shell.execute_reply": "2023-02-06T07:59:31.540158Z"
    },
    "papermill": {
     "duration": 0.916975,
     "end_time": "2023-02-06T07:59:31.544006",
     "exception": false,
     "start_time": "2023-02-06T07:59:30.627031",
     "status": "completed"
    },
    "tags": []
   },
   "outputs": [],
   "source": [
    "# we are importing libraries for graph purpose\n",
    "import seaborn as sns\n",
    "from matplotlib import pyplot as plt\n",
    "%matplotlib inline"
   ]
  },
  {
   "cell_type": "code",
   "execution_count": 23,
   "id": "407ce2db",
   "metadata": {
    "execution": {
     "iopub.execute_input": "2023-02-06T07:59:31.573264Z",
     "iopub.status.busy": "2023-02-06T07:59:31.572888Z",
     "iopub.status.idle": "2023-02-06T07:59:31.726321Z",
     "shell.execute_reply": "2023-02-06T07:59:31.725445Z"
    },
    "papermill": {
     "duration": 0.170525,
     "end_time": "2023-02-06T07:59:31.728355",
     "exception": false,
     "start_time": "2023-02-06T07:59:31.557830",
     "status": "completed"
    },
    "tags": []
   },
   "outputs": [
    {
     "data": {
      "text/plain": [
       "<AxesSubplot:xlabel='Category', ylabel='count'>"
      ]
     },
     "execution_count": 23,
     "metadata": {},
     "output_type": "execute_result"
    },
    {
     "data": {
      "image/png": "[encoded data removed]",
      "text/plain": [
       "<Figure size 432x288 with 1 Axes>"
      ]
     },
     "metadata": {
      "needs_background": "light"
     },
     "output_type": "display_data"
    }
   ],
   "source": [
    "sns.countplot(x = 'Category',data = df,palette = 'rocket_r') #here we getting categories of things store sells"
   ]
  },
  {
   "cell_type": "code",
   "execution_count": 24,
   "id": "0cbd8a0d",
   "metadata": {
    "execution": {
     "iopub.execute_input": "2023-02-06T07:59:31.759870Z",
     "iopub.status.busy": "2023-02-06T07:59:31.759095Z",
     "iopub.status.idle": "2023-02-06T07:59:46.661181Z",
     "shell.execute_reply": "2023-02-06T07:59:46.660420Z"
    },
    "papermill": {
     "duration": 14.919095,
     "end_time": "2023-02-06T07:59:46.663200",
     "exception": false,
     "start_time": "2023-02-06T07:59:31.744105",
     "status": "completed"
    },
    "tags": []
   },
   "outputs": [
    {
     "data": {
      "image/png": "[encoded data removed]",
      "text/plain": [
       "<Figure size 1296x360 with 1 Axes>"
      ]
     },
     "metadata": {
      "needs_background": "light"
     },
     "output_type": "display_data"
    }
   ],
   "source": [
    "plt.figure(figsize=(18,5))\n",
    "plt.bar('Sub-Category','Category', data=df,color = 'Green')\n",
    "plt.show() # here we getting sub- category"
   ]
  },
  {
   "cell_type": "code",
   "execution_count": 25,
   "id": "25a0f907",
   "metadata": {
    "execution": {
     "iopub.execute_input": "2023-02-06T07:59:46.693380Z",
     "iopub.status.busy": "2023-02-06T07:59:46.692423Z",
     "iopub.status.idle": "2023-02-06T07:59:46.697438Z",
     "shell.execute_reply": "2023-02-06T07:59:46.696262Z"
    },
    "papermill": {
     "duration": 0.022866,
     "end_time": "2023-02-06T07:59:46.700019",
     "exception": false,
     "start_time": "2023-02-06T07:59:46.677153",
     "status": "completed"
    },
    "tags": []
   },
   "outputs": [],
   "source": [
    "# here we getting to know that in furniture business very less things we sell\n",
    "\n",
    "# for getting breif knowledge of sub-category we will make another graph:"
   ]
  },
  {
   "cell_type": "code",
   "execution_count": 26,
   "id": "455816e6",
   "metadata": {
    "execution": {
     "iopub.execute_input": "2023-02-06T07:59:46.729954Z",
     "iopub.status.busy": "2023-02-06T07:59:46.729171Z",
     "iopub.status.idle": "2023-02-06T07:59:46.949060Z",
     "shell.execute_reply": "2023-02-06T07:59:46.948306Z"
    },
    "papermill": {
     "duration": 0.236815,
     "end_time": "2023-02-06T07:59:46.951067",
     "exception": false,
     "start_time": "2023-02-06T07:59:46.714252",
     "status": "completed"
    },
    "tags": []
   },
   "outputs": [
    {
     "data": {
      "image/png": "[encoded data removed]",
      "text/plain": [
       "<Figure size 576x720 with 1 Axes>"
      ]
     },
     "metadata": {},
     "output_type": "display_data"
    }
   ],
   "source": [
    "plt.figure(figsize = (8,10))\n",
    "df['Subclass-Category'].value_counts().plot.pie(autopct = '%.2f')\n",
    "plt.show()"
   ]
  },
  {
   "cell_type": "markdown",
   "id": "df2eb953",
   "metadata": {
    "papermill": {
     "duration": 0.019002,
     "end_time": "2023-02-06T07:59:46.989531",
     "exception": false,
     "start_time": "2023-02-06T07:59:46.970529",
     "status": "completed"
    },
    "tags": []
   },
   "source": [
    "**Observations:**\n",
    "\n",
    "*  From above we get to know Blinders,Paper, Furnishings, Phones, storage, art, accessories we sell at large.\n",
    "*  And we sell very minimum things like Copiers,Machine & suppliers"
   ]
  },
  {
   "cell_type": "code",
   "execution_count": 27,
   "id": "23ce024e",
   "metadata": {
    "execution": {
     "iopub.execute_input": "2023-02-06T07:59:47.021802Z",
     "iopub.status.busy": "2023-02-06T07:59:47.021139Z",
     "iopub.status.idle": "2023-02-06T07:59:47.027468Z",
     "shell.execute_reply": "2023-02-06T07:59:47.026817Z"
    },
    "papermill": {
     "duration": 0.024076,
     "end_time": "2023-02-06T07:59:47.029131",
     "exception": false,
     "start_time": "2023-02-06T07:59:47.005055",
     "status": "completed"
    },
    "tags": []
   },
   "outputs": [
    {
     "data": {
      "text/plain": [
       "array(['Kentucky', 'California', 'Florida', 'North Carolina',\n",
       "       'Washington', 'Texas', 'Wisconsin', 'Utah', 'Nebraska',\n",
       "       'Pennsylvania', 'Illinois', 'Minnesota', 'Michigan', 'Delaware',\n",
       "       'Indiana', 'New York', 'Arizona', 'Virginia', 'Tennessee',\n",
       "       'Alabama', 'South Carolina', 'Oregon', 'Colorado', 'Iowa', 'Ohio',\n",
       "       'Missouri', 'Oklahoma', 'New Mexico', 'Louisiana', 'Connecticut',\n",
       "       'New Jersey', 'Massachusetts', 'Georgia', 'Nevada', 'Rhode Island',\n",
       "       'Mississippi', 'Arkansas', 'Montana', 'New Hampshire', 'Maryland',\n",
       "       'District of Columbia', 'Kansas', 'Vermont', 'Maine',\n",
       "       'South Dakota', 'Idaho', 'North Dakota', 'Wyoming',\n",
       "       'West Virginia'], dtype=object)"
      ]
     },
     "execution_count": 27,
     "metadata": {},
     "output_type": "execute_result"
    }
   ],
   "source": [
    "df.State.unique()"
   ]
  },
  {
   "cell_type": "code",
   "execution_count": 28,
   "id": "aa48efe5",
   "metadata": {
    "execution": {
     "iopub.execute_input": "2023-02-06T07:59:47.061686Z",
     "iopub.status.busy": "2023-02-06T07:59:47.061127Z",
     "iopub.status.idle": "2023-02-06T07:59:47.068656Z",
     "shell.execute_reply": "2023-02-06T07:59:47.067650Z"
    },
    "papermill": {
     "duration": 0.02598,
     "end_time": "2023-02-06T07:59:47.070505",
     "exception": false,
     "start_time": "2023-02-06T07:59:47.044525",
     "status": "completed"
    },
    "tags": []
   },
   "outputs": [
    {
     "data": {
      "text/plain": [
       "California              2001\n",
       "New York                1128\n",
       "Texas                    985\n",
       "Pennsylvania             587\n",
       "Washington               506\n",
       "Illinois                 492\n",
       "Ohio                     469\n",
       "Florida                  383\n",
       "Michigan                 255\n",
       "North Carolina           249\n",
       "Arizona                  224\n",
       "Virginia                 224\n",
       "Georgia                  184\n",
       "Tennessee                183\n",
       "Colorado                 182\n",
       "Indiana                  149\n",
       "Kentucky                 139\n",
       "Massachusetts            135\n",
       "New Jersey               130\n",
       "Oregon                   124\n",
       "Wisconsin                110\n",
       "Maryland                 105\n",
       "Delaware                  96\n",
       "Minnesota                 89\n",
       "Connecticut               82\n",
       "Oklahoma                  66\n",
       "Missouri                  66\n",
       "Alabama                   61\n",
       "Arkansas                  60\n",
       "Rhode Island              56\n",
       "Utah                      53\n",
       "Mississippi               53\n",
       "Louisiana                 42\n",
       "South Carolina            42\n",
       "Nevada                    39\n",
       "Nebraska                  38\n",
       "New Mexico                37\n",
       "Iowa                      30\n",
       "New Hampshire             27\n",
       "Kansas                    24\n",
       "Idaho                     21\n",
       "Montana                   15\n",
       "South Dakota              12\n",
       "Vermont                   11\n",
       "District of Columbia      10\n",
       "Maine                      8\n",
       "North Dakota               7\n",
       "West Virginia              4\n",
       "Wyoming                    1\n",
       "Name: State, dtype: int64"
      ]
     },
     "execution_count": 28,
     "metadata": {},
     "output_type": "execute_result"
    }
   ],
   "source": [
    "df.State.value_counts()"
   ]
  },
  {
   "cell_type": "code",
   "execution_count": 29,
   "id": "1a96013f",
   "metadata": {
    "execution": {
     "iopub.execute_input": "2023-02-06T07:59:47.102603Z",
     "iopub.status.busy": "2023-02-06T07:59:47.102013Z",
     "iopub.status.idle": "2023-02-06T07:59:47.117474Z",
     "shell.execute_reply": "2023-02-06T07:59:47.116826Z"
    },
    "papermill": {
     "duration": 0.033546,
     "end_time": "2023-02-06T07:59:47.119209",
     "exception": false,
     "start_time": "2023-02-06T07:59:47.085663",
     "status": "completed"
    },
    "tags": []
   },
   "outputs": [
    {
     "data": {
      "text/html": [
       "<div>\n",
       "<style scoped>\n",
       "    .dataframe tbody tr th:only-of-type {\n",
       "        vertical-align: middle;\n",
       "    }\n",
       "\n",
       "    .dataframe tbody tr th {\n",
       "        vertical-align: top;\n",
       "    }\n",
       "\n",
       "    .dataframe thead th {\n",
       "        text-align: right;\n",
       "    }\n",
       "</style>\n",
       "<table border=\"1\" class=\"dataframe\">\n",
       "  <thead>\n",
       "    <tr style=\"text-align: right;\">\n",
       "      <th></th>\n",
       "      <th>Ship Mode</th>\n",
       "      <th>Segment</th>\n",
       "      <th>Country</th>\n",
       "      <th>City</th>\n",
       "      <th>State</th>\n",
       "      <th>Region</th>\n",
       "      <th>Category</th>\n",
       "      <th>Subclass-Category</th>\n",
       "      <th>Sales</th>\n",
       "      <th>Quantity</th>\n",
       "      <th>Discounts</th>\n",
       "      <th>Profits</th>\n",
       "    </tr>\n",
       "  </thead>\n",
       "  <tbody>\n",
       "    <tr>\n",
       "      <th>0</th>\n",
       "      <td>Second Class</td>\n",
       "      <td>Consumer</td>\n",
       "      <td>United States</td>\n",
       "      <td>Henderson</td>\n",
       "      <td>Kentucky</td>\n",
       "      <td>South</td>\n",
       "      <td>Furniture</td>\n",
       "      <td>Bookcases</td>\n",
       "      <td>261.9600</td>\n",
       "      <td>2</td>\n",
       "      <td>0.00</td>\n",
       "      <td>41.9136</td>\n",
       "    </tr>\n",
       "    <tr>\n",
       "      <th>1</th>\n",
       "      <td>Second Class</td>\n",
       "      <td>Consumer</td>\n",
       "      <td>United States</td>\n",
       "      <td>Henderson</td>\n",
       "      <td>Kentucky</td>\n",
       "      <td>South</td>\n",
       "      <td>Furniture</td>\n",
       "      <td>Chairs</td>\n",
       "      <td>731.9400</td>\n",
       "      <td>3</td>\n",
       "      <td>0.00</td>\n",
       "      <td>219.5820</td>\n",
       "    </tr>\n",
       "    <tr>\n",
       "      <th>2</th>\n",
       "      <td>Second Class</td>\n",
       "      <td>Corporate</td>\n",
       "      <td>United States</td>\n",
       "      <td>Los Angeles</td>\n",
       "      <td>California</td>\n",
       "      <td>West</td>\n",
       "      <td>Office Supplies</td>\n",
       "      <td>Labels</td>\n",
       "      <td>14.6200</td>\n",
       "      <td>2</td>\n",
       "      <td>0.00</td>\n",
       "      <td>6.8714</td>\n",
       "    </tr>\n",
       "    <tr>\n",
       "      <th>3</th>\n",
       "      <td>Standard Class</td>\n",
       "      <td>Consumer</td>\n",
       "      <td>United States</td>\n",
       "      <td>Fort Lauderdale</td>\n",
       "      <td>Florida</td>\n",
       "      <td>South</td>\n",
       "      <td>Furniture</td>\n",
       "      <td>Tables</td>\n",
       "      <td>957.5775</td>\n",
       "      <td>5</td>\n",
       "      <td>0.45</td>\n",
       "      <td>-383.0310</td>\n",
       "    </tr>\n",
       "    <tr>\n",
       "      <th>4</th>\n",
       "      <td>Standard Class</td>\n",
       "      <td>Consumer</td>\n",
       "      <td>United States</td>\n",
       "      <td>Fort Lauderdale</td>\n",
       "      <td>Florida</td>\n",
       "      <td>South</td>\n",
       "      <td>Office Supplies</td>\n",
       "      <td>Storage</td>\n",
       "      <td>22.3680</td>\n",
       "      <td>2</td>\n",
       "      <td>0.20</td>\n",
       "      <td>2.5164</td>\n",
       "    </tr>\n",
       "    <tr>\n",
       "      <th>5</th>\n",
       "      <td>Standard Class</td>\n",
       "      <td>Consumer</td>\n",
       "      <td>United States</td>\n",
       "      <td>Los Angeles</td>\n",
       "      <td>California</td>\n",
       "      <td>West</td>\n",
       "      <td>Furniture</td>\n",
       "      <td>Furnishings</td>\n",
       "      <td>48.8600</td>\n",
       "      <td>7</td>\n",
       "      <td>0.00</td>\n",
       "      <td>14.1694</td>\n",
       "    </tr>\n",
       "    <tr>\n",
       "      <th>6</th>\n",
       "      <td>Standard Class</td>\n",
       "      <td>Consumer</td>\n",
       "      <td>United States</td>\n",
       "      <td>Los Angeles</td>\n",
       "      <td>California</td>\n",
       "      <td>West</td>\n",
       "      <td>Office Supplies</td>\n",
       "      <td>Art</td>\n",
       "      <td>7.2800</td>\n",
       "      <td>4</td>\n",
       "      <td>0.00</td>\n",
       "      <td>1.9656</td>\n",
       "    </tr>\n",
       "    <tr>\n",
       "      <th>7</th>\n",
       "      <td>Standard Class</td>\n",
       "      <td>Consumer</td>\n",
       "      <td>United States</td>\n",
       "      <td>Los Angeles</td>\n",
       "      <td>California</td>\n",
       "      <td>West</td>\n",
       "      <td>Technology</td>\n",
       "      <td>Phones</td>\n",
       "      <td>907.1520</td>\n",
       "      <td>6</td>\n",
       "      <td>0.20</td>\n",
       "      <td>90.7152</td>\n",
       "    </tr>\n",
       "    <tr>\n",
       "      <th>8</th>\n",
       "      <td>Standard Class</td>\n",
       "      <td>Consumer</td>\n",
       "      <td>United States</td>\n",
       "      <td>Los Angeles</td>\n",
       "      <td>California</td>\n",
       "      <td>West</td>\n",
       "      <td>Office Supplies</td>\n",
       "      <td>Binders</td>\n",
       "      <td>18.5040</td>\n",
       "      <td>3</td>\n",
       "      <td>0.20</td>\n",
       "      <td>5.7825</td>\n",
       "    </tr>\n",
       "    <tr>\n",
       "      <th>9</th>\n",
       "      <td>Standard Class</td>\n",
       "      <td>Consumer</td>\n",
       "      <td>United States</td>\n",
       "      <td>Los Angeles</td>\n",
       "      <td>California</td>\n",
       "      <td>West</td>\n",
       "      <td>Office Supplies</td>\n",
       "      <td>Appliances</td>\n",
       "      <td>114.9000</td>\n",
       "      <td>5</td>\n",
       "      <td>0.00</td>\n",
       "      <td>34.4700</td>\n",
       "    </tr>\n",
       "  </tbody>\n",
       "</table>\n",
       "</div>"
      ],
      "text/plain": [
       "        Ship Mode    Segment        Country             City       State  \\\n",
       "0    Second Class   Consumer  United States        Henderson    Kentucky   \n",
       "1    Second Class   Consumer  United States        Henderson    Kentucky   \n",
       "2    Second Class  Corporate  United States      Los Angeles  California   \n",
       "3  Standard Class   Consumer  United States  Fort Lauderdale     Florida   \n",
       "4  Standard Class   Consumer  United States  Fort Lauderdale     Florida   \n",
       "5  Standard Class   Consumer  United States      Los Angeles  California   \n",
       "6  Standard Class   Consumer  United States      Los Angeles  California   \n",
       "7  Standard Class   Consumer  United States      Los Angeles  California   \n",
       "8  Standard Class   Consumer  United States      Los Angeles  California   \n",
       "9  Standard Class   Consumer  United States      Los Angeles  California   \n",
       "\n",
       "  Region         Category Subclass-Category     Sales  Quantity  Discounts  \\\n",
       "0  South        Furniture         Bookcases  261.9600         2       0.00   \n",
       "1  South        Furniture            Chairs  731.9400         3       0.00   \n",
       "2   West  Office Supplies            Labels   14.6200         2       0.00   \n",
       "3  South        Furniture            Tables  957.5775         5       0.45   \n",
       "4  South  Office Supplies           Storage   22.3680         2       0.20   \n",
       "5   West        Furniture       Furnishings   48.8600         7       0.00   \n",
       "6   West  Office Supplies               Art    7.2800         4       0.00   \n",
       "7   West       Technology            Phones  907.1520         6       0.20   \n",
       "8   West  Office Supplies           Binders   18.5040         3       0.20   \n",
       "9   West  Office Supplies        Appliances  114.9000         5       0.00   \n",
       "\n",
       "    Profits  \n",
       "0   41.9136  \n",
       "1  219.5820  \n",
       "2    6.8714  \n",
       "3 -383.0310  \n",
       "4    2.5164  \n",
       "5   14.1694  \n",
       "6    1.9656  \n",
       "7   90.7152  \n",
       "8    5.7825  \n",
       "9   34.4700  "
      ]
     },
     "execution_count": 29,
     "metadata": {},
     "output_type": "execute_result"
    }
   ],
   "source": [
    "df.head(10)\n"
   ]
  },
  {
   "cell_type": "code",
   "execution_count": 30,
   "id": "f36b2052",
   "metadata": {
    "execution": {
     "iopub.execute_input": "2023-02-06T07:59:47.151370Z",
     "iopub.status.busy": "2023-02-06T07:59:47.150801Z",
     "iopub.status.idle": "2023-02-06T07:59:47.159959Z",
     "shell.execute_reply": "2023-02-06T07:59:47.158814Z"
    },
    "papermill": {
     "duration": 0.02818,
     "end_time": "2023-02-06T07:59:47.162674",
     "exception": false,
     "start_time": "2023-02-06T07:59:47.134494",
     "status": "completed"
    },
    "tags": []
   },
   "outputs": [
    {
     "data": {
      "text/plain": [
       "array(['Henderson', 'Los Angeles', 'Fort Lauderdale', 'Concord',\n",
       "       'Seattle', 'Fort Worth', 'Madison', 'West Jordan', 'San Francisco',\n",
       "       'Fremont', 'Philadelphia', 'Orem', 'Houston', 'Richardson',\n",
       "       'Naperville', 'Melbourne', 'Eagan', 'Westland', 'Dover',\n",
       "       'New Albany', 'New York City', 'Troy', 'Chicago', 'Gilbert',\n",
       "       'Springfield', 'Jackson', 'Memphis', 'Decatur', 'Durham',\n",
       "       'Columbia', 'Rochester', 'Minneapolis', 'Portland', 'Saint Paul',\n",
       "       'Aurora', 'Charlotte', 'Orland Park', 'Urbandale', 'Columbus',\n",
       "       'Bristol', 'Wilmington', 'Bloomington', 'Phoenix', 'Roseville',\n",
       "       'Independence', 'Pasadena', 'Newark', 'Franklin', 'Scottsdale',\n",
       "       'San Jose', 'Edmond', 'Carlsbad', 'San Antonio', 'Monroe',\n",
       "       'Fairfield', 'Grand Prairie', 'Redlands', 'Hamilton', 'Westfield',\n",
       "       'Akron', 'Denver', 'Dallas', 'Whittier', 'Saginaw', 'Medina',\n",
       "       'Dublin', 'Detroit', 'Tampa', 'Santa Clara', 'Lakeville',\n",
       "       'San Diego', 'Brentwood', 'Chapel Hill', 'Morristown',\n",
       "       'Cincinnati', 'Inglewood', 'Tamarac', 'Colorado Springs',\n",
       "       'Belleville', 'Taylor', 'Lakewood', 'Arlington', 'Arvada',\n",
       "       'Hackensack', 'Saint Petersburg', 'Long Beach', 'Hesperia',\n",
       "       'Murfreesboro', 'Layton', 'Austin', 'Lowell', 'Manchester',\n",
       "       'Harlingen', 'Tucson', 'Quincy', 'Pembroke Pines', 'Des Moines',\n",
       "       'Peoria', 'Las Vegas', 'Warwick', 'Miami', 'Huntington Beach',\n",
       "       'Richmond', 'Louisville', 'Lawrence', 'Canton', 'New Rochelle',\n",
       "       'Gastonia', 'Jacksonville', 'Auburn', 'Norman', 'Park Ridge',\n",
       "       'Amarillo', 'Lindenhurst', 'Huntsville', 'Fayetteville',\n",
       "       'Costa Mesa', 'Parker', 'Atlanta', 'Gladstone', 'Great Falls',\n",
       "       'Lakeland', 'Montgomery', 'Mesa', 'Green Bay', 'Anaheim',\n",
       "       'Marysville', 'Salem', 'Laredo', 'Grove City', 'Dearborn',\n",
       "       'Warner Robins', 'Vallejo', 'Mission Viejo', 'Rochester Hills',\n",
       "       'Plainfield', 'Sierra Vista', 'Vancouver', 'Cleveland', 'Tyler',\n",
       "       'Burlington', 'Waynesboro', 'Chester', 'Cary', 'Palm Coast',\n",
       "       'Mount Vernon', 'Hialeah', 'Oceanside', 'Evanston', 'Trenton',\n",
       "       'Cottage Grove', 'Bossier City', 'Lancaster', 'Asheville',\n",
       "       'Lake Elsinore', 'Omaha', 'Edmonds', 'Santa Ana', 'Milwaukee',\n",
       "       'Florence', 'Lorain', 'Linden', 'Salinas', 'New Brunswick',\n",
       "       'Garland', 'Norwich', 'Alexandria', 'Toledo', 'Farmington',\n",
       "       'Riverside', 'Torrance', 'Round Rock', 'Boca Raton',\n",
       "       'Virginia Beach', 'Murrieta', 'Olympia', 'Washington',\n",
       "       'Jefferson City', 'Saint Peters', 'Rockford', 'Brownsville',\n",
       "       'Yonkers', 'Oakland', 'Clinton', 'Encinitas', 'Roswell',\n",
       "       'Jonesboro', 'Antioch', 'Homestead', 'La Porte', 'Lansing',\n",
       "       'Cuyahoga Falls', 'Reno', 'Harrisonburg', 'Escondido', 'Royal Oak',\n",
       "       'Rockville', 'Coral Springs', 'Buffalo', 'Boynton Beach',\n",
       "       'Gulfport', 'Fresno', 'Greenville', 'Macon', 'Cedar Rapids',\n",
       "       'Providence', 'Pueblo', 'Deltona', 'Murray', 'Middletown',\n",
       "       'Freeport', 'Pico Rivera', 'Provo', 'Pleasant Grove', 'Smyrna',\n",
       "       'Parma', 'Mobile', 'New Bedford', 'Irving', 'Vineland', 'Glendale',\n",
       "       'Niagara Falls', 'Thomasville', 'Westminster', 'Coppell', 'Pomona',\n",
       "       'North Las Vegas', 'Allentown', 'Tempe', 'Laguna Niguel',\n",
       "       'Bridgeton', 'Everett', 'Watertown', 'Appleton', 'Bellevue',\n",
       "       'Allen', 'El Paso', 'Grapevine', 'Carrollton', 'Kent', 'Lafayette',\n",
       "       'Tigard', 'Skokie', 'Plano', 'Suffolk', 'Indianapolis', 'Bayonne',\n",
       "       'Greensboro', 'Baltimore', 'Kenosha', 'Olathe', 'Tulsa', 'Redmond',\n",
       "       'Raleigh', 'Muskogee', 'Meriden', 'Bowling Green', 'South Bend',\n",
       "       'Spokane', 'Keller', 'Port Orange', 'Medford', 'Charlottesville',\n",
       "       'Missoula', 'Apopka', 'Reading', 'Broomfield', 'Paterson',\n",
       "       'Oklahoma City', 'Chesapeake', 'Lubbock', 'Johnson City',\n",
       "       'San Bernardino', 'Leominster', 'Bozeman', 'Perth Amboy',\n",
       "       'Ontario', 'Rancho Cucamonga', 'Moorhead', 'Mesquite', 'Stockton',\n",
       "       'Ormond Beach', 'Sunnyvale', 'York', 'College Station',\n",
       "       'Saint Louis', 'Manteca', 'San Angelo', 'Salt Lake City',\n",
       "       'Knoxville', 'Little Rock', 'Lincoln Park', 'Marion', 'Littleton',\n",
       "       'Bangor', 'Southaven', 'New Castle', 'Midland', 'Sioux Falls',\n",
       "       'Fort Collins', 'Clarksville', 'Sacramento', 'Thousand Oaks',\n",
       "       'Malden', 'Holyoke', 'Albuquerque', 'Sparks', 'Coachella',\n",
       "       'Elmhurst', 'Passaic', 'North Charleston', 'Newport News',\n",
       "       'Jamestown', 'Mishawaka', 'La Quinta', 'Tallahassee', 'Nashville',\n",
       "       'Bellingham', 'Woodstock', 'Haltom City', 'Wheeling',\n",
       "       'Summerville', 'Hot Springs', 'Englewood', 'Las Cruces', 'Hoover',\n",
       "       'Frisco', 'Vacaville', 'Waukesha', 'Bakersfield', 'Pompano Beach',\n",
       "       'Corpus Christi', 'Redondo Beach', 'Orlando', 'Orange',\n",
       "       'Lake Charles', 'Highland Park', 'Hempstead', 'Noblesville',\n",
       "       'Apple Valley', 'Mount Pleasant', 'Sterling Heights', 'Eau Claire',\n",
       "       'Pharr', 'Billings', 'Gresham', 'Chattanooga', 'Meridian',\n",
       "       'Bolingbrook', 'Maple Grove', 'Woodland', 'Missouri City',\n",
       "       'Pearland', 'San Mateo', 'Grand Rapids', 'Visalia',\n",
       "       'Overland Park', 'Temecula', 'Yucaipa', 'Revere', 'Conroe',\n",
       "       'Tinley Park', 'Dubuque', 'Dearborn Heights', 'Santa Fe',\n",
       "       'Hickory', 'Carol Stream', 'Saint Cloud', 'North Miami',\n",
       "       'Plantation', 'Port Saint Lucie', 'Rock Hill', 'Odessa',\n",
       "       'West Allis', 'Chula Vista', 'Manhattan', 'Altoona', 'Thornton',\n",
       "       'Champaign', 'Texarkana', 'Edinburg', 'Baytown', 'Greenwood',\n",
       "       'Woonsocket', 'Superior', 'Bedford', 'Covington', 'Broken Arrow',\n",
       "       'Miramar', 'Hollywood', 'Deer Park', 'Wichita', 'Mcallen',\n",
       "       'Iowa City', 'Boise', 'Cranston', 'Port Arthur', 'Citrus Heights',\n",
       "       'The Colony', 'Daytona Beach', 'Bullhead City', 'Portage', 'Fargo',\n",
       "       'Elkhart', 'San Gabriel', 'Margate', 'Sandy Springs', 'Mentor',\n",
       "       'Lawton', 'Hampton', 'Rome', 'La Crosse', 'Lewiston',\n",
       "       'Hattiesburg', 'Danville', 'Logan', 'Waterbury', 'Athens',\n",
       "       'Avondale', 'Marietta', 'Yuma', 'Wausau', 'Pasco', 'Oak Park',\n",
       "       'Pensacola', 'League City', 'Gaithersburg', 'Lehi', 'Tuscaloosa',\n",
       "       'Moreno Valley', 'Georgetown', 'Loveland', 'Chandler', 'Helena',\n",
       "       'Kirkwood', 'Waco', 'Frankfort', 'Bethlehem', 'Grand Island',\n",
       "       'Woodbury', 'Rogers', 'Clovis', 'Jupiter', 'Santa Barbara',\n",
       "       'Cedar Hill', 'Norfolk', 'Draper', 'Ann Arbor', 'La Mesa',\n",
       "       'Pocatello', 'Holland', 'Milford', 'Buffalo Grove', 'Lake Forest',\n",
       "       'Redding', 'Chico', 'Utica', 'Conway', 'Cheyenne', 'Owensboro',\n",
       "       'Caldwell', 'Kenner', 'Nashua', 'Bartlett', 'Redwood City',\n",
       "       'Lebanon', 'Santa Maria', 'Des Plaines', 'Longview',\n",
       "       'Hendersonville', 'Waterloo', 'Cambridge', 'Palatine', 'Beverly',\n",
       "       'Eugene', 'Oxnard', 'Renton', 'Glenview', 'Delray Beach',\n",
       "       'Commerce City', 'Texas City', 'Wilson', 'Rio Rancho', 'Goldsboro',\n",
       "       'Montebello', 'El Cajon', 'Beaumont', 'West Palm Beach', 'Abilene',\n",
       "       'Normal', 'Saint Charles', 'Camarillo', 'Hillsboro', 'Burbank',\n",
       "       'Modesto', 'Garden City', 'Atlantic City', 'Longmont', 'Davis',\n",
       "       'Morgan Hill', 'Clifton', 'Sheboygan', 'East Point', 'Rapid City',\n",
       "       'Andover', 'Kissimmee', 'Shelton', 'Danbury', 'Sanford',\n",
       "       'San Marcos', 'Greeley', 'Mansfield', 'Elyria', 'Twin Falls',\n",
       "       'Coral Gables', 'Romeoville', 'Marlborough', 'Laurel', 'Bryan',\n",
       "       'Pine Bluff', 'Aberdeen', 'Hagerstown', 'East Orange',\n",
       "       'Arlington Heights', 'Oswego', 'Coon Rapids', 'San Clemente',\n",
       "       'San Luis Obispo', 'Springdale', 'Lodi', 'Mason'], dtype=object)"
      ]
     },
     "execution_count": 30,
     "metadata": {},
     "output_type": "execute_result"
    }
   ],
   "source": [
    "df.City.unique()"
   ]
  },
  {
   "cell_type": "code",
   "execution_count": 31,
   "id": "b33c0e26",
   "metadata": {
    "execution": {
     "iopub.execute_input": "2023-02-06T07:59:47.196299Z",
     "iopub.status.busy": "2023-02-06T07:59:47.195615Z",
     "iopub.status.idle": "2023-02-06T07:59:47.199807Z",
     "shell.execute_reply": "2023-02-06T07:59:47.198706Z"
    },
    "papermill": {
     "duration": 0.023505,
     "end_time": "2023-02-06T07:59:47.202203",
     "exception": false,
     "start_time": "2023-02-06T07:59:47.178698",
     "status": "completed"
    },
    "tags": []
   },
   "outputs": [],
   "source": [
    "# For understanding segment "
   ]
  },
  {
   "cell_type": "code",
   "execution_count": 32,
   "id": "89aea98b",
   "metadata": {
    "execution": {
     "iopub.execute_input": "2023-02-06T07:59:47.235332Z",
     "iopub.status.busy": "2023-02-06T07:59:47.234708Z",
     "iopub.status.idle": "2023-02-06T07:59:47.344705Z",
     "shell.execute_reply": "2023-02-06T07:59:47.343965Z"
    },
    "papermill": {
     "duration": 0.128898,
     "end_time": "2023-02-06T07:59:47.346823",
     "exception": false,
     "start_time": "2023-02-06T07:59:47.217925",
     "status": "completed"
    },
    "tags": []
   },
   "outputs": [
    {
     "data": {
      "text/plain": [
       "<AxesSubplot:xlabel='Segment', ylabel='count'>"
      ]
     },
     "execution_count": 32,
     "metadata": {},
     "output_type": "execute_result"
    },
    {
     "data": {
      "image/png": "[encoded data removed]",
      "text/plain": [
       "<Figure size 432x288 with 1 Axes>"
      ]
     },
     "metadata": {
      "needs_background": "light"
     },
     "output_type": "display_data"
    }
   ],
   "source": [
    "sns.countplot(x = 'Segment',data = df,palette = 'rainbow')"
   ]
  },
  {
   "cell_type": "code",
   "execution_count": 33,
   "id": "eeda73ad",
   "metadata": {
    "execution": {
     "iopub.execute_input": "2023-02-06T07:59:47.389987Z",
     "iopub.status.busy": "2023-02-06T07:59:47.389363Z",
     "iopub.status.idle": "2023-02-06T07:59:47.846185Z",
     "shell.execute_reply": "2023-02-06T07:59:47.845522Z"
    },
    "papermill": {
     "duration": 0.480231,
     "end_time": "2023-02-06T07:59:47.847973",
     "exception": false,
     "start_time": "2023-02-06T07:59:47.367742",
     "status": "completed"
    },
    "tags": []
   },
   "outputs": [
    {
     "data": {
      "image/png": "[encoded data removed]",
      "text/plain": [
       "<Figure size 1080x864 with 1 Axes>"
      ]
     },
     "metadata": {
      "needs_background": "light"
     },
     "output_type": "display_data"
    }
   ],
   "source": [
    "plt.figure(figsize = (15,12))\n",
    "sns.countplot(x = 'State', data = df, palette = 'rainbow',order = df[\"State\"].value_counts().index)\n",
    "plt.xticks(rotation=90)\n",
    "plt.show()"
   ]
  },
  {
   "cell_type": "markdown",
   "id": "1dffb913",
   "metadata": {
    "papermill": {
     "duration": 0.015692,
     "end_time": "2023-02-06T07:59:47.879909",
     "exception": false,
     "start_time": "2023-02-06T07:59:47.864217",
     "status": "completed"
    },
    "tags": []
   },
   "source": [
    "**Observations:**\n",
    "\n",
    "From above two we get to know that :\n",
    "* Highest No of buyers are from California,NewYork and Texas\n",
    "* lowest no of buyers are from West Virgnia and Wyoming\n",
    "* we deal with Consumer segment more as compared to other Corporate and  Home office"
   ]
  },
  {
   "cell_type": "code",
   "execution_count": 34,
   "id": "6023d356",
   "metadata": {
    "execution": {
     "iopub.execute_input": "2023-02-06T07:59:47.914052Z",
     "iopub.status.busy": "2023-02-06T07:59:47.913633Z",
     "iopub.status.idle": "2023-02-06T07:59:48.028685Z",
     "shell.execute_reply": "2023-02-06T07:59:48.027904Z"
    },
    "papermill": {
     "duration": 0.134929,
     "end_time": "2023-02-06T07:59:48.030725",
     "exception": false,
     "start_time": "2023-02-06T07:59:47.895796",
     "status": "completed"
    },
    "tags": []
   },
   "outputs": [
    {
     "data": {
      "text/plain": [
       "<AxesSubplot:xlabel='Region', ylabel='count'>"
      ]
     },
     "execution_count": 34,
     "metadata": {},
     "output_type": "execute_result"
    },
    {
     "data": {
      "image/png": "[encoded data removed]",
      "text/plain": [
       "<Figure size 432x288 with 1 Axes>"
      ]
     },
     "metadata": {
      "needs_background": "light"
     },
     "output_type": "display_data"
    }
   ],
   "source": [
    "sns.countplot(x = 'Region',data = df,palette = 'rainbow')"
   ]
  },
  {
   "cell_type": "markdown",
   "id": "ac8d8e74",
   "metadata": {
    "papermill": {
     "duration": 0.018939,
     "end_time": "2023-02-06T07:59:48.071245",
     "exception": false,
     "start_time": "2023-02-06T07:59:48.052306",
     "status": "completed"
    },
    "tags": []
   },
   "source": [
    "**Observation:**\n",
    "\n",
    "from here we getting to know that store sell mainly in West & East region"
   ]
  },
  {
   "cell_type": "code",
   "execution_count": 35,
   "id": "0ce92bb1",
   "metadata": {
    "execution": {
     "iopub.execute_input": "2023-02-06T07:59:48.105975Z",
     "iopub.status.busy": "2023-02-06T07:59:48.105591Z",
     "iopub.status.idle": "2023-02-06T07:59:48.258144Z",
     "shell.execute_reply": "2023-02-06T07:59:48.257082Z"
    },
    "papermill": {
     "duration": 0.173046,
     "end_time": "2023-02-06T07:59:48.260695",
     "exception": false,
     "start_time": "2023-02-06T07:59:48.087649",
     "status": "completed"
    },
    "tags": []
   },
   "outputs": [
    {
     "data": {
      "image/png": "[encoded data removed]",
      "text/plain": [
       "<Figure size 432x288 with 1 Axes>"
      ]
     },
     "metadata": {
      "needs_background": "light"
     },
     "output_type": "display_data"
    }
   ],
   "source": [
    "total_sales = df.groupby('City')['Sales'].sum()\n",
    "top_10_city_sales = total_sales.sort_values(ascending = False).iloc[0:10]\n",
    "top_10_city_sales.plot(kind = 'barh')\n",
    "plt.title ('Sales in Cities')\n",
    "plt.show()"
   ]
  },
  {
   "cell_type": "markdown",
   "id": "de8d8989",
   "metadata": {
    "papermill": {
     "duration": 0.01694,
     "end_time": "2023-02-06T07:59:48.294849",
     "exception": false,
     "start_time": "2023-02-06T07:59:48.277909",
     "status": "completed"
    },
    "tags": []
   },
   "source": [
    "**Observation:**\n",
    "\n",
    "Here we get to know that store sell most things to City like NewYork,Los Angeles,Seattle"
   ]
  },
  {
   "cell_type": "code",
   "execution_count": 36,
   "id": "1065c9a7",
   "metadata": {
    "execution": {
     "iopub.execute_input": "2023-02-06T07:59:48.329950Z",
     "iopub.status.busy": "2023-02-06T07:59:48.329576Z",
     "iopub.status.idle": "2023-02-06T07:59:48.496693Z",
     "shell.execute_reply": "2023-02-06T07:59:48.495520Z"
    },
    "papermill": {
     "duration": 0.187444,
     "end_time": "2023-02-06T07:59:48.499134",
     "exception": false,
     "start_time": "2023-02-06T07:59:48.311690",
     "status": "completed"
    },
    "tags": []
   },
   "outputs": [
    {
     "data": {
      "image/png": "[encoded data removed]",
      "text/plain": [
       "<Figure size 432x288 with 1 Axes>"
      ]
     },
     "metadata": {
      "needs_background": "light"
     },
     "output_type": "display_data"
    }
   ],
   "source": [
    "total_profit = df.groupby('City')['Profits'].sum()\n",
    "top_10_profit = total_profit.sort_values(ascending = False).iloc[0:12]\n",
    "top_10_profit.plot(kind = 'barh')\n",
    "plt.title ('Most Profitable  Cities')\n",
    "plt.show()\n"
   ]
  },
  {
   "cell_type": "markdown",
   "id": "e5bd18ff",
   "metadata": {
    "papermill": {
     "duration": 0.016614,
     "end_time": "2023-02-06T07:59:48.532911",
     "exception": false,
     "start_time": "2023-02-06T07:59:48.516297",
     "status": "completed"
    },
    "tags": []
   },
   "source": [
    "**Observations:**\n",
    "\n",
    "Here we get to know Most profitable cities for store is NewYork,Los Angeles,Seattle"
   ]
  },
  {
   "cell_type": "code",
   "execution_count": 37,
   "id": "b7aaa9de",
   "metadata": {
    "execution": {
     "iopub.execute_input": "2023-02-06T07:59:48.569702Z",
     "iopub.status.busy": "2023-02-06T07:59:48.568526Z",
     "iopub.status.idle": "2023-02-06T07:59:48.732626Z",
     "shell.execute_reply": "2023-02-06T07:59:48.731512Z"
    },
    "papermill": {
     "duration": 0.184651,
     "end_time": "2023-02-06T07:59:48.735169",
     "exception": false,
     "start_time": "2023-02-06T07:59:48.550518",
     "status": "completed"
    },
    "tags": []
   },
   "outputs": [
    {
     "data": {
      "image/png": "[encoded data removed]",
      "text/plain": [
       "<Figure size 432x288 with 1 Axes>"
      ]
     },
     "metadata": {
      "needs_background": "light"
     },
     "output_type": "display_data"
    }
   ],
   "source": [
    "totalDiscount = df.groupby('City')['Discounts'].sum()\n",
    "top_10_Dis = totalDiscount.sort_values(ascending = False).iloc[0:10]\n",
    "top_10_Dis.plot(kind = 'barh') \n",
    "plt.title('Most given Discount on Cities')\n",
    "plt.show()"
   ]
  },
  {
   "cell_type": "markdown",
   "id": "e5a5944a",
   "metadata": {
    "papermill": {
     "duration": 0.017,
     "end_time": "2023-02-06T07:59:48.769409",
     "exception": false,
     "start_time": "2023-02-06T07:59:48.752409",
     "status": "completed"
    },
    "tags": []
   },
   "source": [
    "**Observations:**\n",
    "\n",
    "Here we get to know that we give more discount to cities like Philadelphia, Houston and Chicago\n",
    "\n",
    "We analyze now region column on the basis of shipment mode:"
   ]
  },
  {
   "cell_type": "code",
   "execution_count": 38,
   "id": "9a631656",
   "metadata": {
    "execution": {
     "iopub.execute_input": "2023-02-06T07:59:48.805949Z",
     "iopub.status.busy": "2023-02-06T07:59:48.804977Z",
     "iopub.status.idle": "2023-02-06T07:59:49.285414Z",
     "shell.execute_reply": "2023-02-06T07:59:49.284576Z"
    },
    "papermill": {
     "duration": 0.500936,
     "end_time": "2023-02-06T07:59:49.287354",
     "exception": false,
     "start_time": "2023-02-06T07:59:48.786418",
     "status": "completed"
    },
    "tags": []
   },
   "outputs": [
    {
     "data": {
      "text/plain": [
       "<Figure size 1296x864 with 0 Axes>"
      ]
     },
     "metadata": {},
     "output_type": "display_data"
    },
    {
     "data": {
      "image/png": "[encoded data removed]",
      "text/plain": [
       "<Figure size 864x216 with 4 Axes>"
      ]
     },
     "metadata": {
      "needs_background": "light"
     },
     "output_type": "display_data"
    }
   ],
   "source": [
    "plt.figure(figsize = (18,12))\n",
    "region_ship = sns.FacetGrid(df, col = 'Ship Mode')\n",
    "region_ship.map(sns.histplot,'Region')\n",
    "region_ship.set_ylabels('Number')\n",
    "plt.show()"
   ]
  },
  {
   "cell_type": "markdown",
   "id": "7d487df2",
   "metadata": {
    "papermill": {
     "duration": 0.017581,
     "end_time": "2023-02-06T07:59:49.322712",
     "exception": false,
     "start_time": "2023-02-06T07:59:49.305131",
     "status": "completed"
    },
    "tags": []
   },
   "source": [
    "**Observations:**\n",
    "\n",
    "central region people mostly use second class and standard class mode of shipment\n",
    "Were as West region people prefer First Class & Same Day ship mode mostly."
   ]
  },
  {
   "cell_type": "code",
   "execution_count": 39,
   "id": "95986d66",
   "metadata": {
    "execution": {
     "iopub.execute_input": "2023-02-06T07:59:49.359397Z",
     "iopub.status.busy": "2023-02-06T07:59:49.359032Z",
     "iopub.status.idle": "2023-02-06T07:59:49.838959Z",
     "shell.execute_reply": "2023-02-06T07:59:49.837819Z"
    },
    "papermill": {
     "duration": 0.500642,
     "end_time": "2023-02-06T07:59:49.840998",
     "exception": false,
     "start_time": "2023-02-06T07:59:49.340356",
     "status": "completed"
    },
    "tags": []
   },
   "outputs": [
    {
     "data": {
      "text/plain": [
       "<seaborn.axisgrid.FacetGrid at 0x7fe78cbb6b50>"
      ]
     },
     "execution_count": 39,
     "metadata": {},
     "output_type": "execute_result"
    },
    {
     "data": {
      "text/plain": [
       "<Figure size 1080x1080 with 0 Axes>"
      ]
     },
     "metadata": {},
     "output_type": "display_data"
    },
    {
     "data": {
      "image/png": "[encoded data removed]",
      "text/plain": [
       "<Figure size 864x216 with 4 Axes>"
      ]
     },
     "metadata": {
      "needs_background": "light"
     },
     "output_type": "display_data"
    }
   ],
   "source": [
    "plt.figure(figsize = (15,15))\n",
    "category = sns.FacetGrid(df, col = 'Region')\n",
    "category.map(sns.histplot, 'Category')\n",
    "category.set_ylabels(\"Numbers\")"
   ]
  },
  {
   "cell_type": "markdown",
   "id": "17e218d7",
   "metadata": {
    "papermill": {
     "duration": 0.017415,
     "end_time": "2023-02-06T07:59:49.876245",
     "exception": false,
     "start_time": "2023-02-06T07:59:49.858830",
     "status": "completed"
    },
    "tags": []
   },
   "source": [
    "**Observations:**\n",
    "\n",
    "* On South region store mostly sell Office Supplies.\n",
    "* On West region store mostly sell Furnitures.\n",
    "* On Central region store mostly sell Furnitures.\n",
    "* on East region store mostly sell Office Supplies."
   ]
  },
  {
   "cell_type": "code",
   "execution_count": 40,
   "id": "dad1b949",
   "metadata": {
    "execution": {
     "iopub.execute_input": "2023-02-06T07:59:49.913535Z",
     "iopub.status.busy": "2023-02-06T07:59:49.913185Z",
     "iopub.status.idle": "2023-02-06T07:59:50.453135Z",
     "shell.execute_reply": "2023-02-06T07:59:50.451755Z"
    },
    "papermill": {
     "duration": 0.561516,
     "end_time": "2023-02-06T07:59:50.455658",
     "exception": false,
     "start_time": "2023-02-06T07:59:49.894142",
     "status": "completed"
    },
    "tags": []
   },
   "outputs": [
    {
     "data": {
      "text/plain": [
       "<seaborn.axisgrid.FacetGrid at 0x7fe78c676250>"
      ]
     },
     "execution_count": 40,
     "metadata": {},
     "output_type": "execute_result"
    },
    {
     "data": {
      "text/plain": [
       "<Figure size 1080x1080 with 0 Axes>"
      ]
     },
     "metadata": {},
     "output_type": "display_data"
    },
    {
     "data": {
      "image/png": "[encoded data removed]",
      "text/plain": [
       "<Figure size 648x216 with 3 Axes>"
      ]
     },
     "metadata": {
      "needs_background": "light"
     },
     "output_type": "display_data"
    }
   ],
   "source": [
    "plt.figure(figsize = (15,15))\n",
    "Discount = sns.FacetGrid(df, col = 'Category')\n",
    "Discount.map(sns.histplot,'Discounts')\n",
    "Discount.set_ylabels(\"Numbers\")"
   ]
  },
  {
   "cell_type": "code",
   "execution_count": 41,
   "id": "ee2e31a4",
   "metadata": {
    "execution": {
     "iopub.execute_input": "2023-02-06T07:59:50.494017Z",
     "iopub.status.busy": "2023-02-06T07:59:50.493614Z",
     "iopub.status.idle": "2023-02-06T07:59:51.180273Z",
     "shell.execute_reply": "2023-02-06T07:59:51.178808Z"
    },
    "papermill": {
     "duration": 0.708375,
     "end_time": "2023-02-06T07:59:51.182332",
     "exception": false,
     "start_time": "2023-02-06T07:59:50.473957",
     "status": "completed"
    },
    "tags": []
   },
   "outputs": [
    {
     "data": {
      "text/plain": [
       "<seaborn.axisgrid.FacetGrid at 0x7fe78c66d510>"
      ]
     },
     "execution_count": 41,
     "metadata": {},
     "output_type": "execute_result"
    },
    {
     "data": {
      "text/plain": [
       "<Figure size 1080x1080 with 0 Axes>"
      ]
     },
     "metadata": {},
     "output_type": "display_data"
    },
    {
     "data": {
      "image/png": "[encoded data removed]",
      "text/plain": [
       "<Figure size 864x216 with 4 Axes>"
      ]
     },
     "metadata": {
      "needs_background": "light"
     },
     "output_type": "display_data"
    }
   ],
   "source": [
    "plt.figure(figsize = (15,15))\n",
    "Discount = sns.FacetGrid(df, col = 'Region')\n",
    "Discount.map(sns.histplot,'Discounts')\n",
    "Discount.set_ylabels(\"Numbers\")"
   ]
  },
  {
   "cell_type": "code",
   "execution_count": 42,
   "id": "afe8fa41",
   "metadata": {
    "execution": {
     "iopub.execute_input": "2023-02-06T07:59:51.221942Z",
     "iopub.status.busy": "2023-02-06T07:59:51.221593Z",
     "iopub.status.idle": "2023-02-06T08:00:07.819129Z",
     "shell.execute_reply": "2023-02-06T08:00:07.818080Z"
    },
    "papermill": {
     "duration": 16.620353,
     "end_time": "2023-02-06T08:00:07.821530",
     "exception": false,
     "start_time": "2023-02-06T07:59:51.201177",
     "status": "completed"
    },
    "tags": []
   },
   "outputs": [
    {
     "data": {
      "text/plain": [
       "<Figure size 864x792 with 0 Axes>"
      ]
     },
     "metadata": {},
     "output_type": "display_data"
    },
    {
     "data": {
      "image/png": "[encoded data removed]",
      "text/plain": [
       "<Figure size 864x216 with 4 Axes>"
      ]
     },
     "metadata": {
      "needs_background": "light"
     },
     "output_type": "display_data"
    }
   ],
   "source": [
    "plt.figure(figsize = (12,11))\n",
    "profitdf = sns.FacetGrid(df,col = 'Region')\n",
    "profitdf.map(sns.histplot,'Profits')\n",
    "profitdf.set_ylabels(\"numbers\")\n",
    "plt.show()"
   ]
  },
  {
   "cell_type": "code",
   "execution_count": 43,
   "id": "5df4a668",
   "metadata": {
    "execution": {
     "iopub.execute_input": "2023-02-06T08:00:07.861367Z",
     "iopub.status.busy": "2023-02-06T08:00:07.861038Z",
     "iopub.status.idle": "2023-02-06T08:00:18.490989Z",
     "shell.execute_reply": "2023-02-06T08:00:18.489824Z"
    },
    "papermill": {
     "duration": 10.652772,
     "end_time": "2023-02-06T08:00:18.493750",
     "exception": false,
     "start_time": "2023-02-06T08:00:07.840978",
     "status": "completed"
    },
    "tags": []
   },
   "outputs": [
    {
     "data": {
      "text/plain": [
       "<Figure size 864x864 with 0 Axes>"
      ]
     },
     "metadata": {},
     "output_type": "display_data"
    },
    {
     "data": {
      "image/png": "[encoded data removed]",
      "text/plain": [
       "<Figure size 648x216 with 3 Axes>"
      ]
     },
     "metadata": {
      "needs_background": "light"
     },
     "output_type": "display_data"
    }
   ],
   "source": [
    "plt.figure(figsize= (12,12))\n",
    "profit_ = sns.FacetGrid(df,col = 'Category')\n",
    "profit_.map(sns.histplot,'Profits')\n",
    "profit_set_ylabels = 'Numbers'\n",
    "plt.show()"
   ]
  },
  {
   "cell_type": "code",
   "execution_count": 44,
   "id": "e44d9f2b",
   "metadata": {
    "execution": {
     "iopub.execute_input": "2023-02-06T08:00:18.534573Z",
     "iopub.status.busy": "2023-02-06T08:00:18.534206Z",
     "iopub.status.idle": "2023-02-06T08:00:19.107456Z",
     "shell.execute_reply": "2023-02-06T08:00:19.105831Z"
    },
    "papermill": {
     "duration": 0.596435,
     "end_time": "2023-02-06T08:00:19.110122",
     "exception": false,
     "start_time": "2023-02-06T08:00:18.513687",
     "status": "completed"
    },
    "tags": []
   },
   "outputs": [
    {
     "name": "stderr",
     "output_type": "stream",
     "text": [
      "/opt/conda/lib/python3.7/site-packages/ipykernel_launcher.py:1: FutureWarning: Indexing with multiple keys (implicitly converted to a tuple of keys) will be deprecated, use a list instead.\n",
      "  \"\"\"Entry point for launching an IPython kernel.\n"
     ]
    },
    {
     "data": {
      "text/plain": [
       "<AxesSubplot:xlabel='State'>"
      ]
     },
     "execution_count": 44,
     "metadata": {},
     "output_type": "execute_result"
    },
    {
     "data": {
      "image/png": "[encoded data removed]",
      "text/plain": [
       "<Figure size 1440x720 with 1 Axes>"
      ]
     },
     "metadata": {
      "needs_background": "light"
     },
     "output_type": "display_data"
    }
   ],
   "source": [
    "category = df.groupby(\"State\")[\"Profits\", \"Sales\"].sum()\n",
    "category.plot.bar(figsize=(20,10))"
   ]
  },
  {
   "cell_type": "code",
   "execution_count": 45,
   "id": "66dd13af",
   "metadata": {
    "execution": {
     "iopub.execute_input": "2023-02-06T08:00:19.153372Z",
     "iopub.status.busy": "2023-02-06T08:00:19.152997Z",
     "iopub.status.idle": "2023-02-06T08:00:19.715922Z",
     "shell.execute_reply": "2023-02-06T08:00:19.714803Z"
    },
    "papermill": {
     "duration": 0.586669,
     "end_time": "2023-02-06T08:00:19.717999",
     "exception": false,
     "start_time": "2023-02-06T08:00:19.131330",
     "status": "completed"
    },
    "tags": []
   },
   "outputs": [
    {
     "data": {
      "text/plain": [
       "<Figure size 864x864 with 0 Axes>"
      ]
     },
     "metadata": {},
     "output_type": "display_data"
    },
    {
     "data": {
      "image/png": "[encoded data removed]",
      "text/plain": [
       "<Figure size 648x216 with 3 Axes>"
      ]
     },
     "metadata": {
      "needs_background": "light"
     },
     "output_type": "display_data"
    }
   ],
   "source": [
    "plt.figure(figsize = (12,12))\n",
    "quan = sns.FacetGrid(df,col = 'Category')\n",
    "quan.map(sns.histplot,\"Quantity\")\n",
    "quan_set_labels = 'Numbers'\n",
    "plt.show()"
   ]
  },
  {
   "cell_type": "markdown",
   "id": "68ee4b37",
   "metadata": {
    "papermill": {
     "duration": 0.020382,
     "end_time": "2023-02-06T08:00:19.759058",
     "exception": false,
     "start_time": "2023-02-06T08:00:19.738676",
     "status": "completed"
    },
    "tags": []
   },
   "source": []
  },
  {
   "cell_type": "code",
   "execution_count": 46,
   "id": "6d3bbf42",
   "metadata": {
    "execution": {
     "iopub.execute_input": "2023-02-06T08:00:19.803125Z",
     "iopub.status.busy": "2023-02-06T08:00:19.802512Z",
     "iopub.status.idle": "2023-02-06T08:00:20.455787Z",
     "shell.execute_reply": "2023-02-06T08:00:20.454141Z"
    },
    "papermill": {
     "duration": 0.678656,
     "end_time": "2023-02-06T08:00:20.458819",
     "exception": false,
     "start_time": "2023-02-06T08:00:19.780163",
     "status": "completed"
    },
    "tags": []
   },
   "outputs": [
    {
     "data": {
      "text/plain": [
       "Text(0.5, 1.0, 'Sub Category Wise Sales')"
      ]
     },
     "execution_count": 46,
     "metadata": {},
     "output_type": "execute_result"
    },
    {
     "data": {
      "image/png": "[encoded data removed]",
      "text/plain": [
       "<Figure size 1440x360 with 1 Axes>"
      ]
     },
     "metadata": {
      "needs_background": "light"
     },
     "output_type": "display_data"
    }
   ],
   "source": [
    "plt.figure(figsize=(20,5))\n",
    "sns.barplot(x='Subclass-Category',y='Sales', data=df, palette = 'rainbow')\n",
    "plt.title('Sub Category Wise Sales')"
   ]
  },
  {
   "cell_type": "code",
   "execution_count": 47,
   "id": "f3d999c4",
   "metadata": {
    "execution": {
     "iopub.execute_input": "2023-02-06T08:00:20.503726Z",
     "iopub.status.busy": "2023-02-06T08:00:20.503163Z",
     "iopub.status.idle": "2023-02-06T08:00:20.874585Z",
     "shell.execute_reply": "2023-02-06T08:00:20.873257Z"
    },
    "papermill": {
     "duration": 0.396807,
     "end_time": "2023-02-06T08:00:20.877037",
     "exception": false,
     "start_time": "2023-02-06T08:00:20.480230",
     "status": "completed"
    },
    "tags": []
   },
   "outputs": [
    {
     "data": {
      "text/plain": [
       "(array([0, 1, 2]),\n",
       " [Text(0, 0, 'Furniture'),\n",
       "  Text(1, 0, 'Office Supplies'),\n",
       "  Text(2, 0, 'Technology')])"
      ]
     },
     "execution_count": 47,
     "metadata": {},
     "output_type": "execute_result"
    },
    {
     "data": {
      "image/png": "[encoded data removed]",
      "text/plain": [
       "<Figure size 1296x648 with 1 Axes>"
      ]
     },
     "metadata": {
      "needs_background": "light"
     },
     "output_type": "display_data"
    }
   ],
   "source": [
    "plt.figure(figsize=(18,9))\n",
    "plt.title('Category VS Subclass-Category')\n",
    "sns.countplot(x=df['Category'],hue=df['Subclass-Category'],palette='rainbow')\n",
    "plt.xticks()"
   ]
  },
  {
   "cell_type": "code",
   "execution_count": 48,
   "id": "7ed6970a",
   "metadata": {
    "execution": {
     "iopub.execute_input": "2023-02-06T08:00:20.922208Z",
     "iopub.status.busy": "2023-02-06T08:00:20.921719Z",
     "iopub.status.idle": "2023-02-06T08:00:21.848902Z",
     "shell.execute_reply": "2023-02-06T08:00:21.847771Z"
    },
    "papermill": {
     "duration": 0.952935,
     "end_time": "2023-02-06T08:00:21.851972",
     "exception": false,
     "start_time": "2023-02-06T08:00:20.899037",
     "status": "completed"
    },
    "tags": []
   },
   "outputs": [
    {
     "data": {
      "image/png": "[encoded data removed]",
      "text/plain": [
       "<Figure size 864x720 with 4 Axes>"
      ]
     },
     "metadata": {
      "needs_background": "light"
     },
     "output_type": "display_data"
    }
   ],
   "source": [
    "import warnings\n",
    "warnings.filterwarnings('ignore')\n",
    "fig, axs = plt.subplots(ncols=2, nrows = 2, figsize = (12,10))\n",
    "sns.distplot(df['Sales'], color = 'green',  ax = axs[0][0])\n",
    "sns.distplot(df['Profits'], color = 'orange',  ax = axs[0][1])\n",
    "sns.distplot(df['Quantity'], color = 'red',  ax = axs[1][0])\n",
    "sns.distplot(df['Discounts'], color = 'blue',  ax = axs[1][1])\n",
    "axs[0][0].set_title('Sales Distribution', fontsize = 20)\n",
    "axs[0][1].set_title('Profit Distribution', fontsize = 20)\n",
    "axs[1][0].set_title('Quantity distribution', fontsize = 20)\n",
    "axs[1][1].set_title('Discount Distribution', fontsize = 20)\n",
    "plt.show()"
   ]
  },
  {
   "cell_type": "markdown",
   "id": "06819bd6",
   "metadata": {
    "papermill": {
     "duration": 0.022348,
     "end_time": "2023-02-06T08:00:21.896824",
     "exception": false,
     "start_time": "2023-02-06T08:00:21.874476",
     "status": "completed"
    },
    "tags": []
   },
   "source": [
    "**Conclusion:**\n",
    "\n",
    "* Profits and sales are highly correlated.\n",
    "* In category, Furniture has large no. of sales but instead of making profit, it makes loss. So, there is need to limit the sales of Furniture.\n",
    "* States like California, NewYork, Washington,Michigan, Indiana, Virginia, Georgia makes good profit. So, sales can be increased in these states.\n",
    "* States like Texas, Pennsylvania, Ohio and lllinosis has huge sales but it makes big loss. So, there is need to reduce the sales in these states and we have to give some good Discounts,and Great Deals to attract them. We need to work on this state.\n",
    "* In sub-category Phones have high sales.\n"
   ]
  },
  {
   "cell_type": "code",
   "execution_count": null,
   "id": "c2dcdc88",
   "metadata": {
    "papermill": {
     "duration": 0.021655,
     "end_time": "2023-02-06T08:00:21.940694",
     "exception": false,
     "start_time": "2023-02-06T08:00:21.919039",
     "status": "completed"
    },
    "tags": []
   },
   "outputs": [],
   "source": []
  }
 ],
 "metadata": {
  "kernelspec": {
   "display_name": "Python 3",
   "language": "python",
   "name": "python3"
  },
  "language_info": {
   "codemirror_mode": {
    "name": "ipython",
    "version": 3
   },
   "file_extension": ".py",
   "mimetype": "text/x-python",
   "name": "python",
   "nbconvert_exporter": "python",
   "pygments_lexer": "ipython3",
   "version": "3.7.12"
  },
  "papermill": {
   "default_parameters": {},
   "duration": 61.947592,
   "end_time": "2023-02-06T08:00:24.593815",
   "environment_variables": {},
   "exception": null,
   "input_path": "__notebook__.ipynb",
   "output_path": "__notebook__.ipynb",
   "parameters": {},
   "start_time": "2023-02-06T07:59:22.646223",
   "version": "2.3.4"
  }
 },
 "nbformat": 4,
 "nbformat_minor": 5
}
